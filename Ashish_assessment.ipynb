{
 "cells": [
  {
   "cell_type": "markdown",
   "metadata": {},
   "source": [
    "Q.Timestamp in python \n"
   ]
  },
  {
   "cell_type": "code",
   "execution_count": null,
   "metadata": {},
   "outputs": [],
   "source": [
    "import time"
   ]
  },
  {
   "cell_type": "code",
   "execution_count": 3,
   "metadata": {},
   "outputs": [],
   "source": [
    "current_timestamp = time.time()"
   ]
  },
  {
   "cell_type": "code",
   "execution_count": 4,
   "metadata": {},
   "outputs": [
    {
     "name": "stdout",
     "output_type": "stream",
     "text": [
      "1716533791.2712266\n"
     ]
    }
   ],
   "source": [
    "print(current_timestamp)"
   ]
  },
  {
   "cell_type": "markdown",
   "metadata": {},
   "source": [
    "Q.Difference between /  and //"
   ]
  },
  {
   "cell_type": "markdown",
   "metadata": {},
   "source": [
    "/ - standard  division"
   ]
  },
  {
   "cell_type": "code",
   "execution_count": 5,
   "metadata": {},
   "outputs": [
    {
     "name": "stdout",
     "output_type": "stream",
     "text": [
      "3.3333333333333335\n"
     ]
    }
   ],
   "source": [
    "result = 10 / 3  # Performs standard division\n",
    "print(result)"
   ]
  },
  {
   "cell_type": "markdown",
   "metadata": {},
   "source": [
    "// - performs floor division"
   ]
  },
  {
   "cell_type": "code",
   "execution_count": 6,
   "metadata": {},
   "outputs": [
    {
     "name": "stdout",
     "output_type": "stream",
     "text": [
      "3\n"
     ]
    }
   ],
   "source": [
    "result = 10 // 3  # Performs floor division\n",
    "print(result)"
   ]
  },
  {
   "cell_type": "markdown",
   "metadata": {},
   "source": [
    "Q.Fuction Annotators in python\n",
    "Function annotators are a way to provide additional information about functions in Python. They are not directly executed by the interpreter and don't affect the code's functionality, but they serve as helpful documentation and can be used by external tools for type checking, code analysis, or IDE features like autocompletion.\n",
    "\n",
    "Here are the two main contexts where you'll encounter function annotations:\n",
    "\n",
    "Type hints:\n",
    "\n",
    "Type hints specify the expected data types for function arguments and return values. This improves code readability and maintainability, especially for larger codebases. It also allows static type checkers like Mypy to identify potential type errors during development."
   ]
  },
  {
   "cell_type": "code",
   "execution_count": 7,
   "metadata": {},
   "outputs": [],
   "source": [
    "def greet(name: str) -> str:\n",
    "    \"\"\"Greets the user by name.\"\"\"\n",
    "    return f\"Hello, {name}!\"\n",
    "\n",
    "# Calling the function with correct type\n",
    "message = greet(\"Alice\")  # message will be of type str\n"
   ]
  },
  {
   "cell_type": "markdown",
   "metadata": {},
   "source": [
    "2.Function annotations for documentation:\n",
    "\n",
    "You can use annotations to provide more details about the function's purpose, parameters, and return value. This enhances code clarity, especially for functions with complex logic."
   ]
  },
  {
   "cell_type": "code",
   "execution_count": 8,
   "metadata": {},
   "outputs": [],
   "source": [
    "def calculate_area(width: float, height: float) -> float:\n",
    "    \"\"\"Calculates the area of a rectangle.\n",
    "\n",
    "    Args:\n",
    "        width: The width of the rectangle (float).\n",
    "        height: The height of the rectangle (float).\n",
    "\n",
    "    Returns:\n",
    "        The area of the rectangle (float).\n",
    "    \"\"\"\n",
    "    return width * height\n"
   ]
  },
  {
   "cell_type": "markdown",
   "metadata": {},
   "source": [
    "Q.What is Passing function to function in python:\n",
    "Show drafts\n",
    "volume_up\n",
    "\n",
    "In Python, passing functions as arguments to other functions is known as several terms, all conveying the same concept:\n",
    "\n",
    "Higher-Order Functions (HOFs): This is the most common and formal term used in functional programming. A higher-order function is a function that does at least one of the following:\n",
    "\n",
    "Takes a function as an argument.\n",
    "Returns a function as a result.\n",
    "Function as Arguments: This is a more descriptive term that directly explains the practice of passing functions as arguments.\n",
    "\n",
    "Callbacks: This term is often used when the function being passed is intended to be called at some point within the outer function, usually as a way to handle an event or perform an asynchronous task.\n",
    "\n",
    "The specific term you use might depend on the context and your coding style. However, all three terms refer to the same powerful technique in Python that allows for more flexible and reusable code."
   ]
  },
  {
   "cell_type": "markdown",
   "metadata": {},
   "source": [
    "Q.Swapcase in Python :\n",
    "\n",
    "The swapcase method is a built-in method for strings in Python. It iterates through the string and converts all uppercase letters to lowercase and vice versa, leaving any non-alphabetic characters unchanged."
   ]
  },
  {
   "cell_type": "markdown",
   "metadata": {},
   "source": [
    "Q.Walrus operator in python"
   ]
  },
  {
   "cell_type": "markdown",
   "metadata": {},
   "source": [
    "The walrus operator, formally known as the assignment expression operator, is a new feature introduced in Python 3.8. It provides a compact way to assign values to variables while using them within an expression.\n",
    "\n",
    "Here's a breakdown of the walrus operator:\n",
    "\n",
    "Syntax:\n",
    "\n",
    "variable := expression\n",
    "variable: The name of the variable you want to assign a value to.\n",
    ":=: The walrus operator (colon followed by an equal sign).\n",
    "expression: The expression that evaluates to a value that will be assigned to the variable.\n",
    "How it Works:\n",
    "\n",
    "The expression on the right side is evaluated first.\n",
    "The result of the expression is assigned to the variable on the left side.\n",
    "The entire expression, including the assigned value, is returned.\n",
    "Example:"
   ]
  },
  {
   "cell_type": "markdown",
   "metadata": {},
   "source": [
    "# Without walrus operator\n",
    "name = \"Alice\"\n",
    "if len(name) > 5:\n",
    "  long_name = True\n",
    "\n",
    "# With walrus operator (more concise)\n",
    "long_name := len(name) > 5\n",
    "\n",
    "print(long_name)  # Output: True\n"
   ]
  },
  {
   "cell_type": "markdown",
   "metadata": {},
   "source": [
    "Benefits:\n",
    "\n",
    "Readability: The walrus operator can sometimes improve code readability by making expressions more concise, especially when dealing with conditions or filtering.\n",
    "Avoidance of Repetition: It can eliminate the need to repeat the same variable name when assigning a value and using it in an expression.\n",
    "Drawbacks:\n",
    "\n",
    "Overuse: Excessive use of the walrus operator can make code less readable and harder to understand for those unfamiliar with it.\n",
    "Compatibility: It's not supported in Python versions before 3.8.\n",
    "When to Use It:\n",
    "\n",
    "Consider using the walrus operator when:\n",
    "\n",
    "You need to assign a value to a variable and use it immediately within an expression.\n",
    "The code becomes more concise and readable with the walrus operator.\n",
    "In conclusion, the walrus operator is a handy tool in Python 3.8 and later that can improve code conciseness in specific situations. However, it's essential to use it judiciously to maintain code clarity."
   ]
  },
  {
   "cell_type": "markdown",
   "metadata": {},
   "source": [
    "In Python, iterators and generators are closely related concepts, but they have distinct roles:\n",
    "\n",
    "Iterators:\n",
    "\n",
    "Provide a Sequence: Iterators are objects that represent a sequence of items. They allow you to access elements one at a time without needing the entire sequence in memory upfront.\n",
    "__next__ Method: Iterators implement the __next__ method, which is responsible for returning the next element in the sequence. When the sequence is exhausted, StopIteration exception is raised.\n",
    "Use Cases: Iterators are used in various scenarios, including:\n",
    "Looping through elements in a list, tuple, or string.\n",
    "Working with external data sources that provide data in chunks.\n",
    "Implementing custom data structures that provide sequential access."
   ]
  },
  {
   "cell_type": "code",
   "execution_count": 4,
   "metadata": {},
   "outputs": [
    {
     "name": "stdout",
     "output_type": "stream",
     "text": [
      "1\n",
      "2\n"
     ]
    }
   ],
   "source": [
    "# Create a list iterator\n",
    "my_list = [1, 2, 3, 4]\n",
    "list_iterator = iter(my_list)\n",
    "\n",
    "# Access elements one by one\n",
    "print(next(list_iterator))  # Output: 1\n",
    "print(next(list_iterator))  # Output: 2\n"
   ]
  },
  {
   "cell_type": "markdown",
   "metadata": {},
   "source": [
    "Generators:\n",
    "\n",
    "Lazy Sequence Creation: Generators are functions that behave like iterators. They use the yield keyword to generate elements on demand, making them memory-efficient for large sequences.\n",
    "yield Keyword: The yield keyword within a generator function temporarily pauses execution and returns a value. When the iterator iterates again, the generator resumes from the last yield statement.\n",
    "Use Cases: Generators are particularly useful for:\n",
    "Processing large datasets or infinite sequences without loading everything in memory at once.\n",
    "Implementing custom iterators with complex logic for generating elements.\n",
    "Enabling lazy evaluation (generating values only when needed)."
   ]
  },
  {
   "cell_type": "code",
   "execution_count": 5,
   "metadata": {},
   "outputs": [
    {
     "name": "stdout",
     "output_type": "stream",
     "text": [
      "0\n",
      "1\n",
      "1\n",
      "2\n",
      "3\n"
     ]
    }
   ],
   "source": [
    "def fibonacci(n):\n",
    "  \"\"\"Generator to create a sequence of Fibonacci numbers.\"\"\"\n",
    "  a, b = 0, 1\n",
    "  for i in range(n):\n",
    "    yield a\n",
    "    a, b = b, a + b\n",
    "\n",
    "# Get the first 5 Fibonacci numbers\n",
    "for num in fibonacci(5):\n",
    "  print(num)\n"
   ]
  },
  {
   "cell_type": "markdown",
   "metadata": {},
   "source": [
    "In essence, iterators provide a way to access elements in a sequence, while generators are a specific type of function that creates iterators on demand, offering memory efficiency for large data."
   ]
  },
  {
   "cell_type": "markdown",
   "metadata": {},
   "source": [
    "Q. Format Strings (f-strings or legacy format strings):"
   ]
  },
  {
   "cell_type": "code",
   "execution_count": 6,
   "metadata": {},
   "outputs": [
    {
     "name": "stdout",
     "output_type": "stream",
     "text": [
      "Hello, my name is Alice and I am 30 years old.\n"
     ]
    }
   ],
   "source": [
    "name = \"Alice\"\n",
    "age = 30\n",
    "\n",
    "greeting = f\"Hello, my name is {name} and I am {age} years old.\"\n",
    "print(greeting)  # Output: Hello, my name is Alice and I am 30 years old.\n"
   ]
  },
  {
   "cell_type": "markdown",
   "metadata": {},
   "source": [
    "Raw Strings (prefixed with 'r' or 'R'):"
   ]
  },
  {
   "cell_type": "code",
   "execution_count": 8,
   "metadata": {},
   "outputs": [
    {
     "name": "stdout",
     "output_type": "stream",
     "text": [
      "C:\\Users\\Alice\\Documents\\myfile.txt\n"
     ]
    }
   ],
   "source": [
    "# Raw string for a Windows file path\n",
    "windows_path = r\"C:\\Users\\Alice\\Documents\\myfile.txt\"\n",
    "print(windows_path)  # Output: C:\\Users\\Alice\\Documents\\myfile.txt (including the backslashes)\n",
    "\n",
    "# Raw string for a regular expression\n",
    "pattern = r\"\\d{3}-\\d{3}-\\d{4}\"  # Matches phone numbers with literal dashes\n"
   ]
  },
  {
   "cell_type": "markdown",
   "metadata": {},
   "source": [
    " Q14. can we do tuple comprehension\n",
    " Tuple comprehension is not possible becauseco mprehension grows the structure, which means adding one item at a time and tuples\n",
    "are fixed."
   ]
  },
  {
   "cell_type": "markdown",
   "metadata": {},
   "source": [
    "Q15. sort and sorted\n",
    "Solution- The primary difference between sort() and sorted() is the return value.\n",
    "sort() returns None because it modifies the original list in-place. sorted(), on the other hand, returns a new sorted list."
   ]
  },
  {
   "cell_type": "markdown",
   "metadata": {},
   "source": [
    "Q16 concat vs append\n",
    "Solution- The concat method can combine data frames along either rows or columns, while the append method only combines data frames\n",
    "along rows. Another important difference is that concat can combine more than two data frames at once, while append only\n",
    "appends one data frame to another."
   ]
  },
  {
   "cell_type": "markdown",
   "metadata": {},
   "source": [
    "Q17 best way to create a dictionary according to linters\n",
    "Solution - Consistent Indentation,Descriptive Variable Names,Single Quotes for Keys and Values,Vertical Alignment,Trailing Comma\n",
    " Example 1 - Basic dictionary creation\n",
    " my_dict = {'key1': 'value1','key2': 'value2'}\n",
    " Example 2 - Dictionary with descriptive variable names\n",
    " user_info = {'name': 'John Doe','age': 30,'email': 'john@example.com'}\n",
    "Example 3 - Using vertical alignment\n",
    " employee_info = {\n",
    "     'name':     'Alice',\n",
    "     'age':      35,\n",
    "     'position': 'Manager',\n",
    "     'salary':   75000,\n",
    " }\n",
    "Example 4- Dictionary with trailing comma\n",
    "options = {\n",
    "    'debug': False,\n",
    "    'verbose': True,\n",
    "     'mode': 'fast',\n",
    "}"
   ]
  },
  {
   "cell_type": "code",
   "execution_count": 9,
   "metadata": {},
   "outputs": [],
   "source": [
    "# Q18\n",
    "D=dict(); \n",
    "for x in enumerate(range(2)): \n",
    "    D[x[0]]=x[1] \n",
    "    D[x[1]+7]=x[0]\n",
    "# Solution - {0:0,7:0,1:1,8:1}"
   ]
  },
  {
   "cell_type": "code",
   "execution_count": 10,
   "metadata": {},
   "outputs": [
    {
     "data": {
      "text/plain": [
       "{0: 0, 7: 0, 1: 1, 8: 1}"
      ]
     },
     "execution_count": 10,
     "metadata": {},
     "output_type": "execute_result"
    }
   ],
   "source": [
    "D"
   ]
  },
  {
   "cell_type": "code",
   "execution_count": 11,
   "metadata": {},
   "outputs": [],
   "source": [
    "# Q19 Timedelta\n",
    "# Solution - Python timedelta() function is present under datetime library which is generally used for\n",
    "# calculating differences in dates and also can be used for date manipulations in Python.\n",
    "# It is one of the easiest ways to perform date manipulations."
   ]
  },
  {
   "cell_type": "code",
   "execution_count": 12,
   "metadata": {},
   "outputs": [],
   "source": [
    "#Q20  Multi-index\n",
    "# Solution -  Multi-index allows you to represent data with multi-levels of indexing, creating a hierarchy in rows and columns."
   ]
  },
  {
   "cell_type": "code",
   "execution_count": 13,
   "metadata": {},
   "outputs": [],
   "source": [
    "#Q21 Head() and tail()\n",
    "#Solution- head returns the top 5 values by default of a dataframe and tail returns the bottom 5 values of a dataframe"
   ]
  },
  {
   "cell_type": "code",
   "execution_count": 14,
   "metadata": {},
   "outputs": [],
   "source": [
    "#Q22 Sort by and group by pandas\n",
    "# Solution - By using DataFrame. sort_values() , you can sort DataFrame in ascending or descending order, before going to sort the grouped data,\n",
    "# we need to group the DataFrame rows by using DataFrame. groupby() method. Note that groupby preserves the order of rows within each group."
   ]
  },
  {
   "cell_type": "code",
   "execution_count": 15,
   "metadata": {},
   "outputs": [],
   "source": [
    "#Q23 Ways to optimize pandas\n",
    "# Solution- Vectorized Operations: Pandas is designed to perform well with vectorized operations, so try to avoid using iterative operations like loops.\n",
    "# Correct Data Types: Choose appropriate data types for your columns to reduce memory usage and improve performance."
   ]
  },
  {
   "cell_type": "code",
   "execution_count": 16,
   "metadata": {},
   "outputs": [],
   "source": [
    "# Q24 How to empty a dictionary\n",
    "# Solution- Use clear.\n",
    " "
   ]
  },
  {
   "cell_type": "code",
   "execution_count": null,
   "metadata": {},
   "outputs": [],
   "source": []
  }
 ],
 "metadata": {
  "kernelspec": {
   "display_name": "Python 3",
   "language": "python",
   "name": "python3"
  },
  "language_info": {
   "codemirror_mode": {
    "name": "ipython",
    "version": 3
   },
   "file_extension": ".py",
   "mimetype": "text/x-python",
   "name": "python",
   "nbconvert_exporter": "python",
   "pygments_lexer": "ipython3",
   "version": "3.11.0"
  }
 },
 "nbformat": 4,
 "nbformat_minor": 2
}
