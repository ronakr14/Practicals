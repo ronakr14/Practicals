{
  "nbformat": 4,
  "nbformat_minor": 0,
  "metadata": {
    "colab": {
      "provenance": []
    },
    "kernelspec": {
      "name": "python3",
      "display_name": "Python 3"
    },
    "language_info": {
      "name": "python"
    }
  },
  "cells": [
    {
      "cell_type": "code",
      "execution_count": null,
      "metadata": {
        "colab": {
          "base_uri": "https://localhost:8080/"
        },
        "id": "KCZbnlACvotQ",
        "outputId": "82776aa7-527a-4d25-b9ac-8924fbb13854"
      },
      "outputs": [
        {
          "output_type": "stream",
          "name": "stdout",
          "text": [
            "Less than 5:  [1, 3]\n",
            "Equal to 5:  [5]\n",
            "Greater than 5:  [7, 9, 11, 13]\n",
            "Any Values above 5?  True\n",
            "All Values above 5?  False\n"
          ]
        }
      ],
      "source": [
        "lst = [1,3,5,7,9,11,13]\n",
        "\n",
        "below5 = [x for x in lst if x < 5]\n",
        "equal5 = [x for x in lst if x == 5]\n",
        "above5 = [x for x in lst if x > 5]\n",
        "\n",
        "print(\"Less than 5: \", below5)\n",
        "print(\"Equal to 5: \", equal5)\n",
        "print(\"Greater than 5: \", above5)\n",
        "print(\"Any Values above 5? \", any(x > 5 for x in lst))\n",
        "print(\"All Values above 5? \", all(x > 5 for x in lst))"
      ]
    },
    {
      "cell_type": "code",
      "source": [
        "from enum import Enum\n",
        "\n",
        "class color(Enum):\n",
        "  red = 1\n",
        "  green = 2\n",
        "  blue = 3\n",
        "\n",
        "print(color.red.value)\n",
        "print(color.green.value)\n",
        "print(color.blue.value)"
      ],
      "metadata": {
        "colab": {
          "base_uri": "https://localhost:8080/"
        },
        "id": "NV540lXcwJXc",
        "outputId": "1b6a0e08-b9b2-4232-d813-a66ad1d6b824"
      },
      "execution_count": null,
      "outputs": [
        {
          "output_type": "stream",
          "name": "stdout",
          "text": [
            "1\n",
            "2\n",
            "3\n"
          ]
        }
      ]
    },
    {
      "cell_type": "code",
      "source": [
        "from typing import Union\n",
        "\n",
        "UserId = Union[Name, Age]\n",
        "\n",
        "user_id_name: UserId = \"Alice\"\n",
        "user_id_age: UserId = 30\n",
        "\n",
        "def get_user_info(user_id: UserId) -> str:\n",
        "  if isinstance(user_id, Name):\n",
        "    return f\"User name: {user_id}\"\n",
        "  elif isinstance(user_id, Age):\n",
        "    return f\"User age: {user_id}\"\n",
        "  else:\n",
        "    raise ValueError(\"Invalid user ID type\")\n",
        "\n",
        "user_info_name = get_user_info(user_id_name)\n",
        "user_info_age = get_user_info(user_id_age)\n",
        "\n",
        "print(user_info_name)\n",
        "print(user_info_age)"
      ],
      "metadata": {
        "colab": {
          "base_uri": "https://localhost:8080/"
        },
        "id": "B_uXZHzbw231",
        "outputId": "cf358726-b190-4c48-aded-f81632f700ad"
      },
      "execution_count": null,
      "outputs": [
        {
          "output_type": "stream",
          "name": "stdout",
          "text": [
            "User name: Alice\n",
            "User age: 30\n"
          ]
        }
      ]
    },
    {
      "cell_type": "code",
      "source": [
        "def is_iterable(var):\n",
        "    try:\n",
        "        iter(var)\n",
        "        return True\n",
        "    except TypeError:\n",
        "        return False\n",
        "\n",
        "lst = [1, 2, 3]\n",
        "stri = \"Hello\"\n",
        "\n",
        "print(is_iterable(lst))\n",
        "print(is_iterable(stri))"
      ],
      "metadata": {
        "colab": {
          "base_uri": "https://localhost:8080/"
        },
        "id": "xGXL506DzhAY",
        "outputId": "e2bc55f0-676c-4aa3-a85b-5b10cda30883"
      },
      "execution_count": null,
      "outputs": [
        {
          "output_type": "stream",
          "name": "stdout",
          "text": [
            "True\n",
            "True\n"
          ]
        }
      ]
    },
    {
      "cell_type": "code",
      "source": [
        "a=[1,3,5,7,9,11,13]\n",
        "b=a\n",
        "\n",
        "print(id(a))\n",
        "print(id(b))\n",
        "\n",
        "b.append(10)\n",
        "print(a)\n",
        "print(b)"
      ],
      "metadata": {
        "colab": {
          "base_uri": "https://localhost:8080/"
        },
        "id": "OxN-LNN02Geh",
        "outputId": "745ac236-cf1a-4178-c2d5-f9279afc60fd"
      },
      "execution_count": null,
      "outputs": [
        {
          "output_type": "stream",
          "name": "stdout",
          "text": [
            "132788385635136\n",
            "132788385635136\n",
            "[1, 3, 5, 7, 9, 11, 13, 10]\n",
            "[1, 3, 5, 7, 9, 11, 13, 10]\n"
          ]
        }
      ]
    },
    {
      "cell_type": "code",
      "source": [
        "import copy\n",
        "\n",
        "a=[1,3,5,7,9,11,13]\n",
        "b=copy.copy(a)\n",
        "c=copy.deepcopy(a)\n",
        "\n",
        "print(\"A: \",id(a))\n",
        "print(\"B: \",id(b))\n",
        "print(\"C: \",id(c))\n",
        "\n",
        "a.append(10)\n",
        "b.append(20)\n",
        "c.append(30)\n",
        "\n",
        "print(a)\n",
        "print(b)\n",
        "print(c)"
      ],
      "metadata": {
        "colab": {
          "base_uri": "https://localhost:8080/"
        },
        "id": "H4ZqWJzR5Zvw",
        "outputId": "e3513cb6-9fdb-46ec-9c27-fbcb22958d78"
      },
      "execution_count": null,
      "outputs": [
        {
          "output_type": "stream",
          "name": "stdout",
          "text": [
            "A:  132788385644416\n",
            "B:  132788385640576\n",
            "C:  132788385636416\n",
            "[1, 3, 5, 7, 9, 11, 13, 10]\n",
            "[1, 3, 5, 7, 9, 11, 13, 20]\n",
            "[1, 3, 5, 7, 9, 11, 13, 30]\n"
          ]
        }
      ]
    },
    {
      "cell_type": "code",
      "source": [],
      "metadata": {
        "id": "QGrMY48fd2dS"
      },
      "execution_count": null,
      "outputs": []
    }
  ]
}