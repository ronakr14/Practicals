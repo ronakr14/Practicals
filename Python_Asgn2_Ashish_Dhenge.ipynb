{
 "cells": [
  {
   "cell_type": "markdown",
   "id": "87c0c280-3997-40cc-bae2-85495c6f6d00",
   "metadata": {},
   "source": [
    "Q.Python Execution Flow : \n",
    "\n",
    "In Python, the execution flow refers to the specific order in which your code's statements, functions, and modules are processed. Understanding this flow is crucial for writing well-structured and predictable programs.\n",
    "\n",
    "Key Points of Python Execution Flow:\n",
    "\n",
    "Top-Down, Sequential Execution:\n",
    "\n",
    "The interpreter starts at the very first line of your Python script and reads each line one by one.\n",
    "It executes each statement encountered, moving down the file line by line.\n",
    "Function Calls:\n",
    "\n",
    "Function definitions themselves don't affect the initial flow. They are simply blueprints for future use.\n",
    "When a function is called within your code, the execution flow temporarily diverts.\n",
    "The interpreter jumps to the beginning of the called function's definition.\n",
    "It executes all statements inside the function's body.\n",
    "Once the function reaches its end (or encounters a return statement), the flow returns to the line after the function call in the original code.\n",
    "Nested function calls can create deeper layers of execution, but Python keeps track of them and ensures proper return to the correct calling point.\n",
    "Imports and Modules:\n",
    "\n",
    "When you use import statements, the interpreter locates and loads the specified module files.\n",
    "The module's code is not executed at import time; it's simply made available for use.\n",
    "When you call functions or access variables from an imported module, their definitions within the module file are used at that point in your code's execution."
   ]
  },
  {
   "cell_type": "code",
   "execution_count": 3,
   "id": "df131de3-ab12-427f-b08e-ee0ddc79752d",
   "metadata": {},
   "outputs": [
    {
     "name": "stdout",
     "output_type": "stream",
     "text": [
      "Welcome to Python!\n",
      "Hello, Alice!\n",
      "20\n"
     ]
    }
   ],
   "source": [
    "#Example to Illustrate Flow:\n",
    "\n",
    "#Python\n",
    "def greet(name):\n",
    "    \"\"\"Prints a greeting message.\"\"\"\n",
    "    print(\"Hello,\", name + \"!\")\n",
    "\n",
    "message = \"Welcome to Python!\"\n",
    "print(message)  # Executed first\n",
    "\n",
    "greet(\"Alice\")  # Calls the function, execution jumps here\n",
    "\n",
    "number = 10\n",
    "print(number * 2)  # Executed after the function returns"
   ]
  },
  {
   "cell_type": "raw",
   "id": "9f11254f-fdb7-42ca-a57e-197f42311fd7",
   "metadata": {},
   "source": [
    "Execution Flow Breakdown:\n",
    "\n",
    "1.print(message) is executed, displaying \"Welcome to Python!\".\n",
    "2.greet(\"Alice\") is encountered. The interpreter jumps to the greet function definition.\n",
    "3.Inside greet, print(\"Hello,\", name + \"!\") is executed, printing \"Hello, Alice!\".\n",
    "4.Control returns back to the line after the function call.\n",
    "5.number = 10 and print(number * 2) are executed sequentially, printing 20.\n",
    "\n",
    "By understanding this flow, you can write Python code that behaves predictably and is easier to debug. \n",
    "Remember that functions provide a powerful way to control the flow of execution by breaking down complex tasks into smaller, reusable units."
   ]
  },
  {
   "cell_type": "code",
   "execution_count": 4,
   "id": "6a3ea702-6da8-4e5f-b85d-2ff8cfb6e512",
   "metadata": {},
   "outputs": [],
   "source": [
    "#Use of Enum in python\n",
    "from enum import Enum\n",
    "\n",
    "class Day(Enum):\n",
    "    MONDAY = 1\n",
    "    TUESDAY = 2\n",
    "    WEDNESDAY = 3\n",
    "    THURSDAY = 4\n",
    "    FRIDAY = 5\n",
    "    SATURDAY = 6\n",
    "    SUNDAY = 7\n"
   ]
  },
  {
   "cell_type": "code",
   "execution_count": 7,
   "id": "90059eb8-762e-4ef2-8b6d-80165453cd88",
   "metadata": {},
   "outputs": [
    {
     "name": "stdout",
     "output_type": "stream",
     "text": [
      "Day.MONDAY\n"
     ]
    }
   ],
   "source": [
    "today = Day(1)\n",
    "print(today)  \n"
   ]
  },
  {
   "cell_type": "raw",
   "id": "795c0fa0-cb1b-4f04-a3b3-d4cec0797a2e",
   "metadata": {},
   "source": [
    "#Prepare Notes for itertools which are commonly used\n",
    "Ans - Commonly Used Functions in the itertools Module are"
   ]
  },
  {
   "cell_type": "raw",
   "id": "57d549e7-002e-45f7-a1b5-2f8a6b2b83d0",
   "metadata": {},
   "source": [
    "1. count(start=0, step=1)\n",
    "2. cycle(iterable)\n",
    "3. repeat(elem, n=None)\n",
    "4. chain(*iterables)\n",
    "5. compress(data, predicate)\n",
    "6. dropwhile(predicate, iterable)"
   ]
  },
  {
   "cell_type": "code",
   "execution_count": 1,
   "id": "d00ce4f5-5266-4d01-a0a6-0de5488f0612",
   "metadata": {},
   "outputs": [
    {
     "data": {
      "text/plain": [
       "True"
      ]
     },
     "execution_count": 1,
     "metadata": {},
     "output_type": "execute_result"
    }
   ],
   "source": [
    "#check whether varibale is iterable or not\n",
    "variable = (1,2,3,4)\n",
    "hasattr(variable, '__iter__')"
   ]
  },
  {
   "cell_type": "raw",
   "id": "2fedac6a-d3c7-4db0-8da0-1ad3379da4d2",
   "metadata": {},
   "source": [
    "# Example of any() and all() :- \n",
    "any() Function:\n",
    "\n",
    "The any() function in Python checks if at least one element in an iterable (like a list, tuple, string, or dictionary) is True.\n",
    "It returns True if any element evaluates to True, and False otherwise. "
   ]
  },
  {
   "cell_type": "code",
   "execution_count": 2,
   "id": "f667a4b4-285b-482c-a512-3a24220c60a4",
   "metadata": {},
   "outputs": [
    {
     "name": "stdout",
     "output_type": "stream",
     "text": [
      "True\n"
     ]
    }
   ],
   "source": [
    "numbers = [0, 1, 3, 5, 7]\n",
    "print(any(number % 2 == 0 for number in numbers))  # Output: True (checks for even numbers)\n"
   ]
  },
  {
   "cell_type": "raw",
   "id": "0ca5bb2b-891d-480f-8a40-940d6f028f9b",
   "metadata": {},
   "source": [
    "all() Function:\n",
    "\n",
    "The all() function checks if all elements in an iterable are True. It returns True only if every element evaluates to True, and False otherwise."
   ]
  },
  {
   "cell_type": "code",
   "execution_count": 5,
   "id": "28928cc3-0954-4214-a340-f5cce6c71a4a",
   "metadata": {},
   "outputs": [
    {
     "name": "stdout",
     "output_type": "stream",
     "text": [
      "True\n"
     ]
    }
   ],
   "source": [
    "numbers = [1, 3, 5, 7]\n",
    "print(all(number % 2 != 0 for number in numbers))"
   ]
  },
  {
   "cell_type": "raw",
   "id": "eca0db53-ee3d-4504-8887-ad0c3de07b8d",
   "metadata": {},
   "source": [
    "What are various ways to implement string formatting in python.  "
   ]
  },
  {
   "cell_type": "raw",
   "id": "e2bbbb15-eceb-4792-9ccd-f0ea6371d9bf",
   "metadata": {},
   "source": [
    "There are four main ways to implement string formatting in Python:\n",
    "\n",
    "1.Using the % (modulo) operator (older style):\n",
    "  Placeholders are indicated by %s for strings, %d for integers, %f for floats, and so on."
   ]
  },
  {
   "cell_type": "code",
   "execution_count": 6,
   "id": "bf87830e-9305-43f4-b829-85e324fd2a9d",
   "metadata": {},
   "outputs": [
    {
     "name": "stdout",
     "output_type": "stream",
     "text": [
      "Hello, Alice! You are 30 years old.\n"
     ]
    }
   ],
   "source": [
    "name = \"Alice\"\n",
    "age = 30\n",
    "greeting = \"Hello, %s! You are %d years old.\" % (name, age)\n",
    "print(greeting)"
   ]
  },
  {
   "cell_type": "raw",
   "id": "66fabfa4-5521-4756-9ba3-f74629485efc",
   "metadata": {},
   "source": [
    "2.Using f-strings (formatted string literals) (Python 3.6+):"
   ]
  },
  {
   "cell_type": "code",
   "execution_count": 7,
   "id": "13331deb-0960-491f-85e9-aca24472418f",
   "metadata": {},
   "outputs": [
    {
     "name": "stdout",
     "output_type": "stream",
     "text": [
      "Welcome, Bob! You're from New York, right?\n"
     ]
    }
   ],
   "source": [
    "name = \"Bob\"\n",
    "city = \"New York\"\n",
    "message = f\"Welcome, {name}! You're from {city}, right?\"\n",
    "print(message)"
   ]
  },
  {
   "cell_type": "raw",
   "id": "c9310970-b4ed-4782-9606-6adaef991ec2",
   "metadata": {},
   "source": [
    "3.Using the str.format() method:"
   ]
  },
  {
   "cell_type": "code",
   "execution_count": 8,
   "id": "498a399c-eaae-4c2a-bc8c-daaf09044266",
   "metadata": {},
   "outputs": [
    {
     "name": "stdout",
     "output_type": "stream",
     "text": [
      "My name is Charlie Brown. I live in California.\n"
     ]
    }
   ],
   "source": [
    "full_name = \"Charlie Brown\"\n",
    "place = \"California\"\n",
    "introduction = \"My name is {}. I live in {}.\".format(full_name, place)\n",
    "print(introduction)"
   ]
  },
  {
   "cell_type": "raw",
   "id": "e72a6988-1a1e-4665-a105-756530dda1a3",
   "metadata": {},
   "source": [
    "4.Using string concatenation (+):"
   ]
  },
  {
   "cell_type": "code",
   "execution_count": 9,
   "id": "96f4d1a1-a6a1-49bd-ad44-d56056a2abd2",
   "metadata": {},
   "outputs": [
    {
     "name": "stdout",
     "output_type": "stream",
     "text": [
      "This is a Python Programming course for Beginners.\n"
     ]
    }
   ],
   "source": [
    "course = \"Python Programming\"\n",
    "level = \"Beginner\"\n",
    "description = \"This is a \" + course + \" course for \" + level + \"s.\"\n",
    "print(description)"
   ]
  },
  {
   "cell_type": "raw",
   "id": "42e7fe32-c1ed-46a4-a44c-f42f5c1825b6",
   "metadata": {},
   "source": [
    "Q.Example of pass by reference and pass by value "
   ]
  },
  {
   "cell_type": "raw",
   "id": "42df9c67-e3a2-4aaa-823f-8ffb92e3b719",
   "metadata": {},
   "source": [
    "Pass by Value:\n",
    "\n",
    "In pass by value, a copy of the original variable's value is passed to the function.\n",
    "Any changes made inside the function only affect the copy, not the original variable."
   ]
  },
  {
   "cell_type": "code",
   "execution_count": 10,
   "id": "79e58792-8db6-4a9a-ac49-04d0f1e51e3e",
   "metadata": {},
   "outputs": [
    {
     "name": "stdout",
     "output_type": "stream",
     "text": [
      "5\n"
     ]
    }
   ],
   "source": [
    "def modify_value(x):\n",
    "  \"\"\"This function tries to modify the value of x, but it only modifies a copy.\"\"\"\n",
    "  x = x * 2  # Modifying the local copy of x\n",
    "\n",
    "num = 5\n",
    "modify_value(num)\n",
    "print(num)"
   ]
  },
  {
   "cell_type": "raw",
   "id": "73d634c2-63ea-43d7-8df7-6a40407c8fb5",
   "metadata": {},
   "source": [
    "Pass by Reference:\n",
    "\n",
    "While Python doesn't have direct pass by reference like some other languages (C++ with pointers), it achieves a similar effect with mutable data types (like lists). When you pass a mutable data type to a function, the function receives the memory address of the original list. This allows the function to modify the contents of the original list."
   ]
  },
  {
   "cell_type": "code",
   "execution_count": 11,
   "id": "67b2fd0d-8c6c-4e41-b7e4-cba0a0f9523e",
   "metadata": {},
   "outputs": [
    {
     "name": "stdout",
     "output_type": "stream",
     "text": [
      "[1, 2, 3, 10]\n"
     ]
    }
   ],
   "source": [
    "def modify_list(myList):\n",
    "  \"\"\"This function modifies the contents of the original list.\"\"\"\n",
    "  myList.append(10)\n",
    "\n",
    "numbers = [1, 2, 3]\n",
    "modify_list(numbers)\n",
    "print(numbers) "
   ]
  },
  {
   "cell_type": "raw",
   "id": "897dde79-7e5a-45c7-a07e-d3a5e3cc3ba6",
   "metadata": {},
   "source": [
    "Key Points:\n",
    "\n",
    "In Python, primitive data types (like integers, floats, strings) are passed by value.\n",
    "Mutable data types (like lists, dictionaries) are passed by reference (actually, by memory address).\n",
    "Be mindful of this behavior when you intend to modify the original data from within a function."
   ]
  },
  {
   "cell_type": "raw",
   "id": "802e8ea8-bdcd-41c0-8c39-c0570c4036d6",
   "metadata": {},
   "source": [
    "Q.Demo of Union operator using typing library"
   ]
  },
  {
   "cell_type": "raw",
   "id": "8ef0141a-fdf0-4d05-addc-158731df5d38",
   "metadata": {},
   "source": [
    "The typing library in Python doesn't have a built-in Union operator for types. \n",
    "However, it provides the Union construct to define types that can be one of several allowed types. "
   ]
  },
  {
   "cell_type": "code",
   "execution_count": 13,
   "id": "0c6a8bf3-c3c8-4eb9-82b9-0246048e6523",
   "metadata": {},
   "outputs": [
    {
     "name": "stdout",
     "output_type": "stream",
     "text": [
      "Hello, Alice!\n",
      "Greetings, user 10!\n"
     ]
    }
   ],
   "source": [
    "from typing import Union\n",
    "\n",
    "# Define a Union type for name (string or integer)\n",
    "Name = Union[str, int]\n",
    "\n",
    "def greet(name: Name) -> str:\n",
    "  \"\"\"Greets someone with their name.\"\"\"\n",
    "  if isinstance(name, str):\n",
    "    return f\"Hello, {name}!\"\n",
    "  elif isinstance(name, int):\n",
    "    return f\"Greetings, user {name}!\"\n",
    "  else:\n",
    "    raise TypeError(\"Name must be a string or an integer.\")\n",
    "\n",
    "# Call the function with different types\n",
    "message1 = greet(\"Alice\")  # message1 will be of type str\n",
    "message2 = greet(10)       # message2 will be of type str (due to the function's return type)\n",
    "\n",
    "print(message1)  # Output: Hello, Alice!\n",
    "print(message2)  # Output: Greetings, user 10!\n"
   ]
  },
  {
   "cell_type": "code",
   "execution_count": null,
   "id": "7b731f46-7301-49a3-ad8c-1749837101cb",
   "metadata": {},
   "outputs": [],
   "source": []
  }
 ],
 "metadata": {
  "kernelspec": {
   "display_name": "tutorial-env",
   "language": "python",
   "name": "tutorial-env"
  },
  "language_info": {
   "codemirror_mode": {
    "name": "ipython",
    "version": 3
   },
   "file_extension": ".py",
   "mimetype": "text/x-python",
   "name": "python",
   "nbconvert_exporter": "python",
   "pygments_lexer": "ipython3",
   "version": "3.11.0"
  }
 },
 "nbformat": 4,
 "nbformat_minor": 5
}
