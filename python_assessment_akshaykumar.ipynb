{
 "cells": [
  {
   "cell_type": "code",
   "execution_count": 1,
   "metadata": {},
   "outputs": [
    {
     "data": {
      "text/plain": [
       "'yhk'"
      ]
     },
     "execution_count": 1,
     "metadata": {},
     "output_type": "execute_result"
    }
   ],
   "source": [
    "str1 = \"Akshay\"\n",
    "str1[::-2]"
   ]
  },
  {
   "cell_type": "code",
   "execution_count": 4,
   "metadata": {},
   "outputs": [
    {
     "data": {
      "text/plain": [
       "'aKSHAY'"
      ]
     },
     "execution_count": 4,
     "metadata": {},
     "output_type": "execute_result"
    }
   ],
   "source": [
    "str2 = \"Akshay\"\n",
    "str2.swapcase()"
   ]
  },
  {
   "cell_type": "code",
   "execution_count": null,
   "metadata": {},
   "outputs": [],
   "source": [
    "\\: float division  - return output in float\n",
    "\\\\ : floor division - return output in int"
   ]
  },
  {
   "cell_type": "code",
   "execution_count": 9,
   "metadata": {},
   "outputs": [
    {
     "data": {
      "text/plain": [
       "datetime.datetime(2024, 5, 24, 12, 6, 54, 916095)"
      ]
     },
     "execution_count": 9,
     "metadata": {},
     "output_type": "execute_result"
    }
   ],
   "source": [
    "import datetime as dt\n",
    "dt.datetime.now()"
   ]
  },
  {
   "cell_type": "code",
   "execution_count": null,
   "metadata": {},
   "outputs": [],
   "source": [
    "D=dict(); \n",
    "\n",
    "for x in enumerate(range(2)): D[x[0]]=x[1] D[x[1]+7]=x[0]\n",
    "\n",
    "Output: {0:0,7:0,1:1,8:1}"
   ]
  },
  {
   "cell_type": "code",
   "execution_count": null,
   "metadata": {},
   "outputs": [],
   "source": [
    "timedelta() : used to calculate difference between in dates\n",
    "\n",
    "fro e.g., current date = dt.datetime.now()\n",
    "future_date = current_date + timedelta(days = 30)"
   ]
  },
  {
   "cell_type": "code",
   "execution_count": null,
   "metadata": {},
   "outputs": [],
   "source": [
    "higher order function : when function is passed as parameter to another function."
   ]
  },
  {
   "cell_type": "code",
   "execution_count": null,
   "metadata": {},
   "outputs": [],
   "source": [
    "walrus operator:\n",
    "    \n",
    "Walrus Operator allows you to assign a value to a variable within an expression. \n",
    "This can be useful when you need to use a value multiple times in a loop, but don’t want to repeat the calculation.\n",
    "The Walrus Operator is represented by the := syntax and can be used in a variety of contexts including while loops and if statements.\n",
    "\n",
    "for example:\n",
    "    \n",
    "    \n",
    "\n",
    "numbers = [1, 2, 3, 4, 5]\n",
    " \n",
    "while (n := len(numbers)) > 0:\n",
    "    print(numbers.pop())\n",
    "    \n",
    "output:\n",
    "    5\n",
    "    4\n",
    "    3\n",
    "    2\n",
    "    1"
   ]
  },
  {
   "cell_type": "code",
   "execution_count": null,
   "metadata": {},
   "outputs": [],
   "source": [
    "When to use function annotation?\n",
    "\n",
    "ans:\n",
    "Function annotations are arbitrary python expressions. \n",
    "These expressions are evaluated at compile time and have no life in python’s runtime environment.\n",
    "\n",
    "for example:\n",
    "    \n",
    "def fib(n:'int', output:'list'=[])-> 'list': \n",
    "    if n == 0: \n",
    "        return output \n",
    "    else: \n",
    "        if len(output)< 2: \n",
    "            output.append(1) \n",
    "            fib(n-1, output) \n",
    "        else: \n",
    "            last = output[-1] \n",
    "            second_last = output[-2] \n",
    "            output.append(last + second_last) \n",
    "            fib(n-1, output) \n",
    "        return output \n",
    "    \n",
    "print(fib.__annotations__)\n"
   ]
  },
  {
   "cell_type": "code",
   "execution_count": null,
   "metadata": {},
   "outputs": [],
   "source": [
    "Difference between decorator and generator?\n",
    "\n",
    "ans:\n",
    "    \n",
    "Decorator:\n",
    "    \n",
    "1. A decorator is a function that accepts a function as a parameter and returns a function.\n",
    "2. Decorators are useful to perform some additional processing required by a function.\n",
    "e.g.,\n",
    "def decor(func):\n",
    "   def inner_function(x,y):\n",
    "       if x<0:\n",
    "           x = 0\n",
    "       if y<0:\n",
    "           y = 0\n",
    "       return func(x,y)\n",
    "   return inner_function \n",
    "\n",
    "@decor\n",
    "def add(a,b):\n",
    "   res = a + b\n",
    "   return res\n",
    "\n",
    "print(add(20,30))\n",
    "print(add(-10,5))\n",
    "\n",
    "\n",
    "\n",
    "Generator:\n",
    "Generators are just like functions which give us a sequence of values one as an iterable (which can be iterated upon using loops).\n",
    "Generators contain yield statements just as functions contain return statements.\n",
    "\n",
    "e.g.,\n",
    "def m():\n",
    "   yield 'Akshay'\n",
    "   yield 'Akash'\n",
    "   \n",
    "g = m()\n",
    "print(type(g))\n",
    "print(next(g))\n",
    "print(next(g))\n",
    "    "
   ]
  },
  {
   "cell_type": "code",
   "execution_count": null,
   "metadata": {},
   "outputs": [],
   "source": [
    "How to empty a dictionary: \n",
    "    \n",
    "Use clear()"
   ]
  },
  {
   "cell_type": "code",
   "execution_count": null,
   "metadata": {},
   "outputs": [],
   "source": [
    "Difference between set and frozenset?\n",
    "\n",
    "set : \n",
    "1. mutable unordered collection of elements using a built-in function like add(), remove()\n",
    "2. Set is represented by curly braces like this {} or you can use set()\n",
    "\n",
    "frozenset :\n",
    "1. immutable unordered collection of elements\n",
    "2. Frozensets are represented by the built-in function which is frozenset()"
   ]
  },
  {
   "cell_type": "code",
   "execution_count": null,
   "metadata": {},
   "outputs": [],
   "source": [
    "How to join two sets?\n",
    "\n",
    "1. using unioin\n",
    "set1 = {\"a\", \"b\" , \"c\"}\n",
    "set2 = {1, 2, 3}\n",
    "\n",
    "set3 = set1.union(set2)\n",
    "print(set3)\n",
    "\n",
    "2. using update:\n",
    "set1 = {\"a\", \"b\" , \"c\"}\n",
    "set2 = {1, 2, 3}\n",
    "\n",
    "set1.update(set2)\n",
    "print(set1)"
   ]
  },
  {
   "cell_type": "code",
   "execution_count": null,
   "metadata": {},
   "outputs": [],
   "source": [
    "Doctsring in python:\n",
    "    \n",
    "used for documentation of function, modules, classes, methods. \n",
    "The docstrings are declared using ”’triple single quotes”’. \n",
    "\n",
    "e.g.,\n",
    "\n",
    "def my_function():\n",
    "    '''Demonstrates triple double quotes\n",
    "    docstrings and does nothing really.'''\n",
    "  \n",
    "    return None\n",
    " \n",
    "print(\"Using __doc__:\")\n",
    "print(my_function.__doc__)\n",
    " \n",
    "print(\"Using help:\")\n",
    "help(my_function)"
   ]
  },
  {
   "cell_type": "code",
   "execution_count": null,
   "metadata": {},
   "outputs": [],
   "source": [
    "multiindexing in pandas:\n",
    "    \n",
    "Multi-index allows you to represent data with multi-levels of indexing, creating a hierarchy in rows and columns.\n",
    " "
   ]
  },
  {
   "cell_type": "code",
   "execution_count": null,
   "metadata": {},
   "outputs": [],
   "source": [
    "head(n) in pandas: used to retrieve top n record from mentioned dataframe\n",
    "tail(n):  used to retrieve last n records from mentioned dataframe"
   ]
  },
  {
   "cell_type": "code",
   "execution_count": null,
   "metadata": {},
   "outputs": [],
   "source": [
    "How to remove and replace null values in dataframe?\n",
    "to remove:\n",
    "1. dropna()\n",
    "\n",
    "to replace:\n",
    "1. fillna() - we can mention what we want to fill like mean, median, mode or customised value"
   ]
  },
  {
   "cell_type": "code",
   "execution_count": null,
   "metadata": {},
   "outputs": [],
   "source": [
    "Ways to optimize pandas:\n",
    "    \n",
    "Vectorized Operations: Pandas is designed to perform well with vectorized operations, so try to avoid using iterative operations like loops.\n",
    "Correct Data Types: Choose appropriate data types for your columns to reduce memory usage and improve performance.\n",
    "Categorical Data: If a column has a limited number of unique values, consider converting it to a categorical data type using pd.Categorical().\n",
    "Memory Efficient Methods: Use memory-efficient methods like read_csv() with appropriate parameters (dtype, usecols, chunksize)\n",
    "to reduce memory usage when reading large datasets.\n",
    "Avoid Chained Indexing: Chained indexing (e.g., df['column'][index]) can create copies of data and lead to performance issues. Instead, use .loc[] or .iloc[].\n",
    "Optimize Groupby Operations: Groupby operations can be memory-intensive. Try to minimize the number of groups and use agg() with a dictionary"
   ]
  },
  {
   "cell_type": "code",
   "execution_count": null,
   "metadata": {},
   "outputs": [],
   "source": [
    "one hot encoding:\n",
    "\n",
    "One hot encoding is a technique that we use to represent categorical variables as numerical values in a machine learning model.\n",
    "it converts categorical value column into various column with values 0 & 1. \n",
    "number of columns = total unique categories"
   ]
  },
  {
   "cell_type": "code",
   "execution_count": null,
   "metadata": {},
   "outputs": [],
   "source": [
    "find categories in column?\n",
    "\n",
    "1. to find unique categories - unique()\n",
    "2. to count unique categories - nunique()"
   ]
  },
  {
   "cell_type": "code",
   "execution_count": null,
   "metadata": {},
   "outputs": [],
   "source": [
    "formate string: this is used to print the string which contains variable values\n",
    "\n",
    "for e.g., num = 10\n",
    "print(f\"The value of num is { num }\")\n",
    "\n",
    "Output - The value of num is 10\n",
    "\n",
    "\n",
    "\n",
    "\n",
    "raw string : this is used to print raw string means it will not consider any special character and variables\n",
    "\n",
    "for e.g., num = 10\n",
    "print(r\"The value of num is { num }\")\n",
    "\n",
    "Output - The value of num is { num }"
   ]
  },
  {
   "cell_type": "code",
   "execution_count": null,
   "metadata": {},
   "outputs": [],
   "source": [
    "rolling mean in pandas   \n",
    " \n",
    "calculate the rolling mean of a series or a DataFrame using the rolling method.\n",
    " \n",
    "The rolling method creates a rolling window object, and you can then apply various aggregation functions,\n",
    "such as mean, sum, min, max, etc., to the window.\n",
    "\n",
    "for example \n",
    " \n",
    "import pandas as pd \n",
    " \n",
    "# Create a sample series \n",
    "data = pd.Series([1, 2, 3, 4, 5, 6, 7, 8, 9, 10]) \n",
    " \n",
    "# Calculate the rolling mean with a window size of 3 \n",
    "rolling_mean = data.rolling(window=3).mean() \n",
    " \n",
    "print(rolling_mean) \n",
    "Output: \n",
    "0    NaN \n",
    "1    NaN \n",
    "2    2.0 \n",
    "3    3.0 \n",
    "4    4.0 \n",
    "5    5.0 \n",
    "6    6.0 \n",
    "7    7.0 \n",
    "8    8.0 \n",
    "9    9.0 \n",
    "dtype: float64 "
   ]
  },
  {
   "cell_type": "code",
   "execution_count": null,
   "metadata": {},
   "outputs": [],
   "source": [
    "can we do tuple comprehension?\n",
    "Tuple comprehension is not possible because comprehension update the structure, which means adding one item at a time \n",
    "and tuples are immutable."
   ]
  },
  {
   "cell_type": "code",
   "execution_count": null,
   "metadata": {},
   "outputs": [],
   "source": [
    "sort and sorted\n",
    "The primary difference between sort() and sorted() is the return value.\n",
    "sort() it modifies the original list in-place.\n",
    "sorted()returns a new sorted list."
   ]
  },
  {
   "cell_type": "code",
   "execution_count": null,
   "metadata": {},
   "outputs": [],
   "source": [
    "concat vs append\n",
    "The concat method can combine data frames along either rows or columns, while the append method only combines data frames along rows.\n",
    "concat can combine more than two data frames at once, while append only appends one data frame to another."
   ]
  },
  {
   "cell_type": "code",
   "execution_count": null,
   "metadata": {},
   "outputs": [],
   "source": [
    "best way to create a dictionary according to linters?\n",
    "\n",
    "using indentation, descriptive variable name, use of quotes\n",
    "Using vertical alignment\n",
    "\n",
    "for example:\n",
    "\n",
    "employee_info = {\n",
    "    'name': 'Alice',\n",
    "    'age':   35,\n",
    "    'position': 'Manager',\n",
    "    'salary': 75000,\n",
    "}"
   ]
  }
 ],
 "metadata": {
  "kernelspec": {
   "display_name": "Python 3",
   "language": "python",
   "name": "python3"
  },
  "language_info": {
   "codemirror_mode": {
    "name": "ipython",
    "version": 3
   },
   "file_extension": ".py",
   "mimetype": "text/x-python",
   "name": "python",
   "nbconvert_exporter": "python",
   "pygments_lexer": "ipython3",
   "version": "3.11.0"
  }
 },
 "nbformat": 4,
 "nbformat_minor": 2
}
