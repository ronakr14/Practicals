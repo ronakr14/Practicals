{
 "cells": [
  {
   "cell_type": "markdown",
   "metadata": {},
   "source": [
    "Q1. String slicing"
   ]
  },
  {
   "cell_type": "code",
   "execution_count": 5,
   "metadata": {},
   "outputs": [
    {
     "name": "stdout",
     "output_type": "stream",
     "text": [
      "rkO\n"
     ]
    }
   ],
   "source": [
    "str1=\"Omkar\"\n",
    "str2=str1[-1::-2]\n",
    "print(str2)"
   ]
  },
  {
   "cell_type": "markdown",
   "metadata": {},
   "source": [
    "Q2. Swap case in a string"
   ]
  },
  {
   "cell_type": "code",
   "execution_count": 6,
   "metadata": {},
   "outputs": [
    {
     "name": "stdout",
     "output_type": "stream",
     "text": [
      "hELLO oMKAR\n"
     ]
    }
   ],
   "source": [
    "str1 = \"Hello Omkar\"\n",
    "print(str1.swapcase())"
   ]
  },
  {
   "cell_type": "markdown",
   "metadata": {},
   "source": [
    "Q3. Print current timestamp"
   ]
  },
  {
   "cell_type": "code",
   "execution_count": 11,
   "metadata": {},
   "outputs": [
    {
     "name": "stdout",
     "output_type": "stream",
     "text": [
      "1716532576.7315748\n",
      "2024-05-24 12:06:16.731674\n"
     ]
    }
   ],
   "source": [
    "import time, datetime\n",
    "\n",
    "current_time = time.time()\n",
    "print(current_time)\n",
    "print(datetime.datetime.now())"
   ]
  },
  {
   "cell_type": "markdown",
   "metadata": {},
   "source": [
    "Q4. Decorator vs Generator\n",
    "\n",
    "Ans: \n",
    "- Decorators modifies the behavior of a function or class.\n",
    "- Generators creates an iterator object that generates a sequence of values on demand.\n",
    "- We can create decorators for common functionality and apply them to various functions.\n",
    "- Generators can provide a more concise way to represent iterators compared to manually implementing them."
   ]
  },
  {
   "cell_type": "markdown",
   "metadata": {},
   "source": [
    "Q5. Walrus Operator\n",
    "\n",
    "Ans:\n",
    "- The walrus operator, written as :=, allows you to assign a value to a variable within an expression.\n",
    "- Following example shows the implementation of walrus operator\n",
    " "
   ]
  },
  {
   "cell_type": "code",
   "execution_count": 16,
   "metadata": {},
   "outputs": [
    {
     "name": "stdout",
     "output_type": "stream",
     "text": [
      "The list has more than 3 elements\n",
      "The list has more than 3 elements\n"
     ]
    }
   ],
   "source": [
    "# Without walrus operator:\n",
    "numbers = [1, 2, 3, 4, 5]\n",
    "length = len(numbers) \n",
    "if length > 3:\n",
    "    print(\"The list has more than 3 elements\")\n",
    "\n",
    "# With walrus operator:\n",
    "numbers = [1, 2, 3, 4, 5]\n",
    "if (length := len(numbers)) > 3:\n",
    "    print(\"The list has more than 3 elements\")"
   ]
  },
  {
   "cell_type": "markdown",
   "metadata": {},
   "source": [
    "Q6. Functions annotations\n",
    "\n",
    "Ans:\n",
    "- Function annotations are a way to attach metadata to the parameters and return value of functions.\n",
    "- They allow us to provide additional information about the types of arguments accepted by a function and the type of value it returns.\n",
    "- example: def add(x: int, y: int) -> int:\n",
    "              return x + y\n",
    "- x: int and y: int are parameter annotations indicating that the x and y parameters are expected to be of type int."
   ]
  },
  {
   "cell_type": "markdown",
   "metadata": {},
   "source": [
    "Q7. Format strings vs raw strings.\n",
    "\n",
    "Ans:\n",
    "1) Format Strings:\n",
    "- Used for creating dynamic strings by inserting values or expressions.\n",
    "- The '{}' is replaced with the value of the variable or expression placed within the curly braces at runtime.\n",
    "\n",
    "2) Raw Strings:\n",
    "- Define strings exactly as written, ignoring escape sequences.\n",
    "- Useful for including backslashes (\\) or other special characters literally within the string."
   ]
  },
  {
   "cell_type": "code",
   "execution_count": 18,
   "metadata": {},
   "outputs": [
    {
     "name": "stdout",
     "output_type": "stream",
     "text": [
      "Hello, Alice!\n",
      "C:\\Users\\...\\Documents\\myfile.txt\n"
     ]
    }
   ],
   "source": [
    "#Example of format string:\n",
    "name = \"Alice\"\n",
    "greeting = f\"Hello, {name}!\"\n",
    "print(greeting)\n",
    "\n",
    "#Example of raw string:\n",
    "path = r\"C:\\Users\\...\\Documents\\myfile.txt\"  # Raw string for backslashes\n",
    "print(path)  \n"
   ]
  },
  {
   "cell_type": "markdown",
   "metadata": {},
   "source": [
    "Q8. Difference between / and //.\n",
    "\n",
    "Ans:\n",
    "1) '/' operator:\n",
    "\n",
    "- The '/' operator performs floating-point division.\n",
    "- Always returns a floating-point number, regardless of the data types of the operands.\n",
    "\n",
    "2) '//' operator:\n",
    "\n",
    "- Performs floor division.\n",
    "- Returns the largest integer that is less than or equal to the result of the division.\n"
   ]
  },
  {
   "cell_type": "code",
   "execution_count": 19,
   "metadata": {},
   "outputs": [
    {
     "name": "stdout",
     "output_type": "stream",
     "text": [
      "2.5\n",
      "2\n"
     ]
    }
   ],
   "source": [
    "# Floating-point division with decimal result.\n",
    "result1 = 5 / 2\n",
    "print(result1)  # Output: 2.5\n",
    "\n",
    "# Floor division with integer result.\n",
    "result2 = 5 // 2\n",
    "print(result2)  # Output: 2\n"
   ]
  },
  {
   "cell_type": "markdown",
   "metadata": {},
   "source": [
    "Q9. Head and tail in pandas\n",
    "\n",
    "Ans:\n",
    "\n",
    "1) head():\n",
    "- Returns the first n rows of a DataFrame. If don't provide n it will print first 5 rows. \n",
    "- Example: print(df.head(3)) # it will print first 3 rows.\n",
    "\n",
    "2) tail():\n",
    "- Returns the last n rows of a DataFrame. If don't provide n it will print last 5 rows.\n",
    "- Example: print(df.tail(2)) # it will print last 2 rows.\n"
   ]
  },
  {
   "cell_type": "markdown",
   "metadata": {},
   "source": [
    "Q10. Multi Indexing in pandas.\n",
    "\n",
    "Ans:\n",
    "- Multi-indexing, also known as hierarchical indexing, allows us to have multiple index levels on one axis (rows or columns) of a DataFrame.\n",
    "- Example:"
   ]
  },
  {
   "cell_type": "code",
   "execution_count": 20,
   "metadata": {},
   "outputs": [
    {
     "name": "stdout",
     "output_type": "stream",
     "text": [
      "              value\n",
      "first second       \n",
      "A     1          10\n",
      "      2          20\n",
      "B     1          30\n",
      "      2          40\n"
     ]
    }
   ],
   "source": [
    "import pandas as pd\n",
    "\n",
    "# Creating a DataFrame with a multi-index\n",
    "index = pd.MultiIndex.from_tuples([('A', 1), ('A', 2), ('B', 1), ('B', 2)], names=['first', 'second'])\n",
    "data = {'value': [10, 20, 30, 40]}\n",
    "df = pd.DataFrame(data, index=index)\n",
    "\n",
    "print(df)"
   ]
  },
  {
   "cell_type": "markdown",
   "metadata": {},
   "source": [
    "Q11. Reindexing in Pandas.\n",
    "\n",
    "Ans:\n",
    "- Reindexing takes a new set of index for rows or columns (specified by the axis parameter).\n",
    "- It aligns the existing data with the new labels.\n",
    "- Example:"
   ]
  },
  {
   "cell_type": "code",
   "execution_count": 21,
   "metadata": {},
   "outputs": [
    {
     "name": "stdout",
     "output_type": "stream",
     "text": [
      "      Name  Age\n",
      "Alice   -1   -1\n",
      "Bob     -1   -1\n",
      "David   -1   -1\n",
      "Eve     -1   -1\n"
     ]
    }
   ],
   "source": [
    "import pandas as pd\n",
    "\n",
    "data = {'Name': ['Alice', 'Bob', 'Charlie'], 'Age': [25, 30, 22]}\n",
    "df = pd.DataFrame(data)\n",
    "\n",
    "# Create a new index\n",
    "new_index = ['Alice', 'Bob', 'David', 'Eve']\n",
    "\n",
    "# Reindex the DataFrame and filling missing values with -1\n",
    "reindexed_df = df.reindex(new_index, fill_value=-1)\n",
    "print(reindexed_df)\n"
   ]
  },
  {
   "cell_type": "markdown",
   "metadata": {},
   "source": [
    "Q12. Join vs merge in pandas."
   ]
  },
  {
   "cell_type": "code",
   "execution_count": 4,
   "metadata": {},
   "outputs": [
    {
     "name": "stdout",
     "output_type": "stream",
     "text": [
      "o/p for join\n",
      "    A  B  C   D\n",
      "a  1  4  7  10\n",
      "b  2  5  8  11\n",
      "c  3  6  9  12\n",
      "o/p for merge\n",
      "   key  value_x  value_y\n",
      "0   a        1        4\n",
      "1   b        2        5\n"
     ]
    }
   ],
   "source": [
    "# Example for join\n",
    "import pandas as pd\n",
    "\n",
    "df1 = pd.DataFrame({'A': [1, 2, 3], 'B': [4, 5, 6]}, index=['a', 'b', 'c'])\n",
    "df2 = pd.DataFrame({'C': [7, 8, 9], 'D': [10, 11, 12]}, index=['a', 'b', 'c'])\n",
    "\n",
    "joined_df = df1.join(df2)\n",
    "print(\"o/p for join\\n\",joined_df)\n",
    "\n",
    "# Example for merge\n",
    "import pandas as pd\n",
    "\n",
    "df1 = pd.DataFrame({'key': ['a', 'b', 'c'], 'value': [1, 2, 3]})\n",
    "df2 = pd.DataFrame({'key': ['a', 'b', 'd'], 'value': [4, 5, 6]})\n",
    "\n",
    "merged_df = pd.merge(df1, df2, on='key', how='inner')\n",
    "print(\"o/p for merge\\n\",merged_df)\n"
   ]
  },
  {
   "cell_type": "markdown",
   "metadata": {},
   "source": [
    "Q13. Concat vs append\n",
    "\n",
    "Ans:\n",
    "\n",
    "1) concat() method:\n",
    "- Used to concatenate two or more DataFrame or Series objects along a particular axis.\n",
    "- It allows you to concatenate objects along either rows or columns.\n",
    "\n",
    "2) append() method:\n",
    "- Used to append a DataFrame or Series to another DataFrame.\n",
    "- It appends rows of one DataFrame to the end of another DataFrame.\n"
   ]
  },
  {
   "cell_type": "markdown",
   "metadata": {},
   "source": [
    "Q14. Assign None if no value present in disctionary."
   ]
  },
  {
   "cell_type": "code",
   "execution_count": 25,
   "metadata": {},
   "outputs": [
    {
     "name": "stdout",
     "output_type": "stream",
     "text": [
      "{'a': 1, 'b': 2, 'c': None, 'd': None}\n"
     ]
    }
   ],
   "source": [
    "my_dict = {'a': 1, 'b': 2}\n",
    "default_value = None\n",
    "\n",
    "# Assign default value to keys not present\n",
    "for key in ['a', 'b', 'c', 'd']:\n",
    "    my_dict[key] = my_dict.get(key, default_value)\n",
    "\n",
    "print(my_dict)\n"
   ]
  },
  {
   "cell_type": "markdown",
   "metadata": {},
   "source": [
    "Q15. Pandas timedelta.\n",
    "\n",
    "Ans:\n",
    "- In pandas, timedelta represents a duration or difference between two points in time.\n",
    "- Stores the difference between two dates or times in units like days, hours, minutes, seconds, nanoseconds, etc.\n",
    "- Commonly used in data analysis, time series analysis, and data manipulation tasks involving datetime data."
   ]
  },
  {
   "cell_type": "markdown",
   "metadata": {},
   "source": [
    "Q16. Rolling() method in pandas.\n",
    "\n",
    "Ans: \n",
    "- The .rolling() method in pandas is used for performing rolling window calculations on time series data.\n",
    "- Rolling mean is useful for smoothing out short-term fluctuations and highlighting longer-term trends or cycles in the data.\n",
    "  "
   ]
  },
  {
   "cell_type": "markdown",
   "metadata": {},
   "source": [
    "Q17. Sum of three columns.\n",
    "\n",
    "Ans:\n",
    "- df = df.assign(Total = lambda x: (x['Sub1']+x['Sub2']+x['Sub3']))"
   ]
  },
  {
   "cell_type": "markdown",
   "metadata": {},
   "source": [
    "Q18."
   ]
  },
  {
   "cell_type": "code",
   "execution_count": 10,
   "metadata": {},
   "outputs": [
    {
     "name": "stdout",
     "output_type": "stream",
     "text": [
      "{0: 0, 7: 0, 1: 1, 8: 1}\n"
     ]
    }
   ],
   "source": [
    "d = dict()\n",
    "for x in enumerate(range(2)):\n",
    "    d[x[0]] = x[1]\n",
    "    d[x[1]+7] = x[0]\n",
    "\n",
    "print(d)"
   ]
  },
  {
   "cell_type": "markdown",
   "metadata": {},
   "source": [
    "Q19. How empty a dictionary?\n",
    "\n",
    "Ans:\n",
    "- If we have dictionary with elements in it we can use clear() method to empty the dictionary."
   ]
  },
  {
   "cell_type": "markdown",
   "metadata": {},
   "source": [
    "Q20. Pickling in python.\n",
    "\n",
    "Ans:\n",
    "- Pickling in Python, also known as serialization, refers to the process of converting a Python lists, dictionaries, custom objects, etc. into a byte stream.\n",
    "- Pickling allows you to save complex data structures, such as lists, dictionaries, and custom objects, in a platform-independent format."
   ]
  },
  {
   "cell_type": "markdown",
   "metadata": {},
   "source": [
    "Q21. Sort vs sorted in python.\n",
    "\n",
    "Ans:\n",
    "- The sort() method is a method available specifically for list objects.\n",
    "- It sorts the list in-place, meaning it modifies the original list and does not return a new list.\n",
    "- The sorted() function is a built-in function that can be applied to any iterable object.\n",
    "- It returns a new sorted list and leaves the original iterable unchanged.\n"
   ]
  },
  {
   "cell_type": "markdown",
   "metadata": {},
   "source": [
    "Q22. \n",
    "\n",
    "Ans:\n",
    "1) Grouping by any column:\n",
    "- Identify the column for grouping: Decide which column you want to use to categorize your data.\n",
    "- Use the .groupby() method: Apply the .groupby() method on your DataFrame, specifying the column name for grouping.\n",
    "\n",
    "2) Sorting within groups (by multiple columns):\n",
    "- Sort: Call the sort_values() method on the grouped object, specifying the column(s) to sort by.\n",
    "- Reset index (optional): By default, sorting creates a temporary index within groups. We can use reset_index(drop=True) to convert it back to the original grouping column."
   ]
  },
  {
   "cell_type": "markdown",
   "metadata": {},
   "source": [
    "Q23.\n",
    "Ans:\n",
    "\n",
    "Linders dictionary initalization:\n",
    "- When keys and values are readily available, dictionary comprehension is a good choice\n",
    "- If the keys or values might be dynamic during runtime, the dict() constructor is better"
   ]
  }
 ],
 "metadata": {
  "kernelspec": {
   "display_name": "base",
   "language": "python",
   "name": "python3"
  },
  "language_info": {
   "codemirror_mode": {
    "name": "ipython",
    "version": 3
   },
   "file_extension": ".py",
   "mimetype": "text/x-python",
   "name": "python",
   "nbconvert_exporter": "python",
   "pygments_lexer": "ipython3",
   "version": "3.12.2"
  }
 },
 "nbformat": 4,
 "nbformat_minor": 2
}
