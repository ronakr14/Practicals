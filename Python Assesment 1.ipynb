{
 "cells": [
  {
   "cell_type": "markdown",
   "metadata": {},
   "source": [
    "Q. Difference between / and //\n",
    "-The single slash / is the standard division operator in Python.It performs true division, meaning that it always returns a floating-point number.\n",
    "-The double slash // is the floor division operator in Python.It performs floor division, which means that it rounds down to the nearest whole number."
   ]
  },
  {
   "cell_type": "markdown",
   "metadata": {},
   "source": [
    "Q. Swap cases"
   ]
  },
  {
   "cell_type": "code",
   "execution_count": 1,
   "metadata": {},
   "outputs": [
    {
     "name": "stdout",
     "output_type": "stream",
     "text": [
      "hARSHADA\n"
     ]
    }
   ],
   "source": [
    "string = \"Harshada\"\n",
    "swapped_string = string.swapcase()\n",
    "print(swapped_string)"
   ]
  },
  {
   "cell_type": "markdown",
   "metadata": {},
   "source": [
    "Q. Time and Date right now "
   ]
  },
  {
   "cell_type": "code",
   "execution_count": 2,
   "metadata": {},
   "outputs": [
    {
     "name": "stdout",
     "output_type": "stream",
     "text": [
      "Current Date and Time: 2024-05-24 12:38:28.555286\n"
     ]
    }
   ],
   "source": [
    "import datetime\n",
    "current_datetime = datetime.datetime.now()\n",
    "print(\"Current Date and Time:\", current_datetime)"
   ]
  },
  {
   "cell_type": "markdown",
   "metadata": {},
   "source": [
    "Q. how to pass function to function in python?\n",
    "In Python, functions can be passed as arguments to other functions, allowing for greater flexibility in program design. First, you define the functions you want to use, such as add() and multiply(). Then, you create a higher-order function like apply_operation() that takes another function as an argument and applies it to the given parameters, enabling dynamic behavior in your code."
   ]
  },
  {
   "cell_type": "markdown",
   "metadata": {},
   "source": [
    "Q. how to annotate function \n",
    "To annotate a function in Python, you add type hints within the function's parameter list and return type using the `->` syntax. For example, `def greet(name: str) -> str:` specifies that the `name` parameter is expected to be a string, and the function returns a string."
   ]
  },
  {
   "cell_type": "markdown",
   "metadata": {},
   "source": [
    "Q. what is walrus operator?\n",
    "The walrus operator, `:=`, introduced in Python 3.8, allows you to assign values to variables within expressions. It's particularly useful for streamlining code by eliminating the need for separate assignment statements in certain contexts."
   ]
  },
  {
   "cell_type": "markdown",
   "metadata": {},
   "source": [
    "Q. Difference between Iterator and generator \n",
    "Iterator\n",
    "An iterator is an object that implements the iterator protocol, which requires the __iter__() and __next__() methods.\n",
    "Iterators can be created from any iterable object using the iter() function, and they provide a way to iterate over elements in a sequence one at a time, typically with a for loop.\n",
    "\n",
    "Generator\n",
    "A generator is a special type of iterator that is created using a function with one or more yield statements.\n",
    "Generators allow you to generate a sequence of values lazily, on-the-fly, and they automatically implement the iterator protocol, so you can iterate over them using for loops or other iterator-consuming functions."
   ]
  },
  {
   "cell_type": "markdown",
   "metadata": {},
   "source": [
    "Q.Difference between format strings and raw strings\n",
    "Format String\n",
    "Format strings allow for string interpolation and formatting, enabling you to embed expressions and variables within a string using curly braces {}.\n",
    "They are created by prefixing the string literal with an 'f' or 'F', such as f\"Hello, {name}!\", and allow for the dynamic insertion of values into a string.\n",
    "\n",
    "Raw String \n",
    "Raw strings are used when you want to treat backslashes (\\) in a string as literal characters rather than escape characters.\n",
    "They are created by prefixing the string literal with an 'r' or 'R', such as r\"Path: C:\\new\\folder\", and are commonly used for regular expressions, file paths, and other scenarios where backslashes are prevalent.\n",
    "\n",
    "\n"
   ]
  },
  {
   "cell_type": "markdown",
   "metadata": {},
   "source": [
    "Q. basic difference set() vs frozenset()\n",
    "`set()` creates a mutable set, while `frozenset()` creates an immutable set."
   ]
  },
  {
   "cell_type": "markdown",
   "metadata": {},
   "source": [
    "Q. Docstring in function\n",
    "A docstring in a Python function is a string literal placed at the beginning of the function definition, enclosed in triple quotes (`\"\"\" \"\"\"`). It serves as documentation for the function, describing its purpose, parameters, return values, and any other relevant information."
   ]
  },
  {
   "cell_type": "markdown",
   "metadata": {},
   "source": [
    "Q. can we do tuple comprehension\n",
    "Tuple comprehension is not possible becauseco mprehension grows the structure, which means adding one item at a time and tuples are fixed."
   ]
  },
  {
   "cell_type": "markdown",
   "metadata": {},
   "source": [
    "Q. Timedelta\n",
    "Solution - Python timedelta() function is present under datetime library which is generally used for\n",
    "calculating differences in dates and also can be used for date manipulations in Python.\n",
    "It is one of the easiest ways to perform date manipulations."
   ]
  },
  {
   "cell_type": "markdown",
   "metadata": {},
   "source": [
    "Q.D=dict(); for x in enumerate(range(2)): D[x[0]]=x[1] D[x[1]+7]=x[0]\n",
    "Soln - {0:0,7:0,1:1,8:1}"
   ]
  },
  {
   "cell_type": "markdown",
   "metadata": {},
   "source": [
    "Q.best way to create a dictionary according to linters"
   ]
  },
  {
   "cell_type": "code",
   "execution_count": null,
   "metadata": {},
   "outputs": [],
   "source": [
    "# Solution - Consistent Indentation,Descriptive Variable Names,Single Quotes for Keys and Values,Vertical Alignment,Trailing Comma\n",
    "# Example 1 - Basic dictionary creation\n",
    "my_dict = {'key1': 'value1','key2': 'value2'}\n",
    "# Example 2 - Dictionary with descriptive variable names\n",
    "user_info = {'name': 'John Doe','age': 30,'email': 'john@example.com'}\n",
    "# Example 3 - Using vertical alignment\n",
    "employee_info = {'name':     'Alice','age':      35,'position': 'Manager','salary':   75000,}\n",
    "# Example 4- Dictionary with trailing comma\n",
    "options ={'debug': False,'verbose': True,'mode': 'fast',}"
   ]
  },
  {
   "cell_type": "markdown",
   "metadata": {},
   "source": [
    "Q. sort and sorted\n",
    "Solution- The primary difference between sort() and sorted() is the return value.\n",
    "sort() returns None because it modifies the original list in-place. sorted(), on the other hand, returns a new sorted list."
   ]
  },
  {
   "cell_type": "markdown",
   "metadata": {},
   "source": [
    "Q. concat vs append\n",
    "Solution- The concat method can combine data frames along either rows or columns, while the append method only combines data frames\n",
    "along rows. Another important difference is that concat can combine more than two data frames at once, while append only\n",
    "appends one data frame to another."
   ]
  }
 ],
 "metadata": {
  "kernelspec": {
   "display_name": "Python 3",
   "language": "python",
   "name": "python3"
  },
  "language_info": {
   "codemirror_mode": {
    "name": "ipython",
    "version": 3
   },
   "file_extension": ".py",
   "mimetype": "text/x-python",
   "name": "python",
   "nbconvert_exporter": "python",
   "pygments_lexer": "ipython3",
   "version": "3.11.0"
  }
 },
 "nbformat": 4,
 "nbformat_minor": 2
}
