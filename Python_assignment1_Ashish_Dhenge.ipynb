{
 "cells": [
  {
   "cell_type": "markdown",
   "id": "e7b3c402-6ad9-4d75-a0d8-7bbefbfaacd1",
   "metadata": {},
   "source": [
    "Assignment 1 - ETA  - 15/05/2024"
   ]
  },
  {
   "cell_type": "code",
   "execution_count": null,
   "id": "ab8ae609-01f0-4803-a164-8af25232e79a",
   "metadata": {},
   "outputs": [],
   "source": [
    "import re"
   ]
  },
  {
   "cell_type": "code",
   "execution_count": 2,
   "id": "306d3045-da5c-4266-9ee1-eb6616577858",
   "metadata": {},
   "outputs": [],
   "source": [
    "#Q4.regex in python\n",
    "#replace special characters with space,colon with ;\n",
    "str1 = 'a_cd-12.4;5:b'"
   ]
  },
  {
   "cell_type": "code",
   "execution_count": 3,
   "id": "0ce4528a-3cc7-492d-b742-6bc32fe5f89a",
   "metadata": {},
   "outputs": [],
   "source": [
    "#help(re)"
   ]
  },
  {
   "cell_type": "raw",
   "id": "956fd50c-0dc1-4fa5-ad8f-230e3632508c",
   "metadata": {},
   "source": [
    "sub(pattern, repl, string, count=0, flags=0)\n",
    "        Return the string obtained by replacing the leftmost\n",
    "        non-overlapping occurrences of the pattern in string by the\n",
    "        replacement repl.  repl can be either a string or a callable;\n",
    "        if a string, backslash escapes in it are processed.  If it is\n",
    "        a callable, it's passed the Match object and must return\n",
    "        a replacement string to be used."
   ]
  },
  {
   "cell_type": "code",
   "execution_count": 4,
   "id": "60268a6f-59e3-4450-9e45-df579a802290",
   "metadata": {},
   "outputs": [
    {
     "data": {
      "text/plain": [
       "'a_cd-12.4;5;b'"
      ]
     },
     "execution_count": 4,
     "metadata": {},
     "output_type": "execute_result"
    }
   ],
   "source": [
    "str2=re.sub(\":\",\";\",str1)\n",
    "str2"
   ]
  },
  {
   "cell_type": "code",
   "execution_count": 5,
   "id": "65504dab-2986-4ffc-bb27-939dbf134469",
   "metadata": {},
   "outputs": [
    {
     "data": {
      "text/plain": [
       "'a cd 12 4;5;b'"
      ]
     },
     "execution_count": 5,
     "metadata": {},
     "output_type": "execute_result"
    }
   ],
   "source": [
    "str3 = re.sub(\"[!@#$%^&*()._-]\",\" \",str2)\n",
    "str3"
   ]
  },
  {
   "cell_type": "raw",
   "id": "d568bd12-9b70-4fca-953c-1161d2ec3f07",
   "metadata": {},
   "source": [
    "Q1.Plot secondary axis in matplotlib with legends"
   ]
  },
  {
   "cell_type": "code",
   "execution_count": 9,
   "id": "4a9f220e-fb72-4638-a87b-1e7687aef11b",
   "metadata": {},
   "outputs": [],
   "source": [
    "from matplotlib import pyplot as plt"
   ]
  },
  {
   "cell_type": "code",
   "execution_count": 2,
   "id": "a518ae29-e04d-427e-bbe6-2c8e7130e396",
   "metadata": {},
   "outputs": [
    {
     "ename": "ModuleNotFoundError",
     "evalue": "No module named 'lxml'",
     "output_type": "error",
     "traceback": [
      "\u001b[1;31m---------------------------------------------------------------------------\u001b[0m",
      "\u001b[1;31mModuleNotFoundError\u001b[0m                       Traceback (most recent call last)",
      "Cell \u001b[1;32mIn[2], line 3\u001b[0m\n\u001b[0;32m      1\u001b[0m \u001b[38;5;28;01mimport\u001b[39;00m \u001b[38;5;21;01mpandas\u001b[39;00m \u001b[38;5;28;01mas\u001b[39;00m \u001b[38;5;21;01mpd\u001b[39;00m\n\u001b[0;32m      2\u001b[0m \u001b[38;5;28;01mimport\u001b[39;00m \u001b[38;5;21;01mnumpy\u001b[39;00m \u001b[38;5;28;01mas\u001b[39;00m \u001b[38;5;21;01mnp\u001b[39;00m\n\u001b[1;32m----> 3\u001b[0m \u001b[38;5;28;01mimport\u001b[39;00m \u001b[38;5;21;01mlxml\u001b[39;00m\n",
      "\u001b[1;31mModuleNotFoundError\u001b[0m: No module named 'lxml'"
     ]
    }
   ],
   "source": [
    "import pandas as pd\n",
    "import numpy as np\n",
    "import lxml"
   ]
  },
  {
   "cell_type": "markdown",
   "id": "7b7383cf-3bcd-48d9-bcfa-ece8e67fe1b6",
   "metadata": {},
   "source": [
    "Scrape table from Website"
   ]
  },
  {
   "cell_type": "markdown",
   "id": "0294e324-1638-46a2-880c-b5bea39508eb",
   "metadata": {},
   "source": [
    "#automatically get ist of dataframes from tables on website\n",
    "df_list = pd.read_html('https://www.cdc.gov/growthcharts/html_charts/wtage.htm#males')\n",
    "print(type(df_list))\n",
    "print(type(df_list[0]),type(df_list[1]))"
   ]
  },
  {
   "cell_type": "code",
   "execution_count": 17,
   "id": "51f951b0-20a0-4e54-9ac8-93139c709f21",
   "metadata": {},
   "outputs": [],
   "source": [
    "#Q3.Code to check anagrams"
   ]
  },
  {
   "cell_type": "code",
   "execution_count": 14,
   "id": "1843ec0c-cd7b-46d5-a8e7-8ef429caf103",
   "metadata": {},
   "outputs": [],
   "source": [
    "str1 = 'race'\n",
    "str2 = 'care'"
   ]
  },
  {
   "cell_type": "code",
   "execution_count": 16,
   "id": "d8869a34-dc7a-45a6-a5e8-c0fc468cb753",
   "metadata": {},
   "outputs": [
    {
     "name": "stdout",
     "output_type": "stream",
     "text": [
      "Both strings are an Anagram.\n"
     ]
    }
   ],
   "source": [
    "if(sorted(str1)== sorted(str2)): \n",
    "    print(\"Both strings are an Anagram.\") \n",
    "else: \n",
    "    print(\"Both strings are not an Anagram.\")"
   ]
  },
  {
   "cell_type": "markdown",
   "id": "f2e4e5e2-c604-4a74-86b5-8d43f34ea7a9",
   "metadata": {},
   "source": [
    "Q5.Explain three types of merges in git \n",
    "\n",
    "Ans  -  \n",
    "1. Merge Commit (1st Option in both the tools) \n",
    "Creates a new merge commit. (This is what you will get if you used — no-ff.) \n",
    "\n",
    " \n",
    "\n",
    "2. Squash Merge (2nd option in both the tools) \n",
    "Crush or squeeze (something) with force so that it becomes flat \n",
    "\n",
    " \n",
    "\n",
    "3. Rebase and Merge (3rd Option in Github) \n",
    "Establish a new base level \n",
    "\n",
    " \n",
    "\n",
    "4. Fast Forward (3rd Option in Bitbucket) \n",
    "Forward rapidly, without creating a new commit "
   ]
  },
  {
   "cell_type": "code",
   "execution_count": 1,
   "id": "38061ab4-a184-4831-b4b9-57b8684ce3e6",
   "metadata": {},
   "outputs": [],
   "source": [
    "#Q2.Use lambda operations on the dataframes "
   ]
  },
  {
   "cell_type": "code",
   "execution_count": 2,
   "id": "bc8590de-f164-496d-9c7a-38d3d5ac122f",
   "metadata": {},
   "outputs": [
    {
     "data": {
      "text/html": [
       "<div>\n",
       "<style scoped>\n",
       "    .dataframe tbody tr th:only-of-type {\n",
       "        vertical-align: middle;\n",
       "    }\n",
       "\n",
       "    .dataframe tbody tr th {\n",
       "        vertical-align: top;\n",
       "    }\n",
       "\n",
       "    .dataframe thead th {\n",
       "        text-align: right;\n",
       "    }\n",
       "</style>\n",
       "<table border=\"1\" class=\"dataframe\">\n",
       "  <thead>\n",
       "    <tr style=\"text-align: right;\">\n",
       "      <th></th>\n",
       "      <th>Field_1</th>\n",
       "      <th>Field_2</th>\n",
       "      <th>Field_3</th>\n",
       "      <th>Product</th>\n",
       "    </tr>\n",
       "  </thead>\n",
       "  <tbody>\n",
       "    <tr>\n",
       "      <th>0</th>\n",
       "      <td>15</td>\n",
       "      <td>2.5</td>\n",
       "      <td>100</td>\n",
       "      <td>3750.0</td>\n",
       "    </tr>\n",
       "    <tr>\n",
       "      <th>1</th>\n",
       "      <td>20</td>\n",
       "      <td>4.5</td>\n",
       "      <td>50</td>\n",
       "      <td>4500.0</td>\n",
       "    </tr>\n",
       "    <tr>\n",
       "      <th>2</th>\n",
       "      <td>25</td>\n",
       "      <td>5.2</td>\n",
       "      <td>80</td>\n",
       "      <td>10400.0</td>\n",
       "    </tr>\n",
       "    <tr>\n",
       "      <th>3</th>\n",
       "      <td>45</td>\n",
       "      <td>5.8</td>\n",
       "      <td>48</td>\n",
       "      <td>12528.0</td>\n",
       "    </tr>\n",
       "    <tr>\n",
       "      <th>4</th>\n",
       "      <td>40</td>\n",
       "      <td>6.3</td>\n",
       "      <td>70</td>\n",
       "      <td>17640.0</td>\n",
       "    </tr>\n",
       "    <tr>\n",
       "      <th>5</th>\n",
       "      <td>41</td>\n",
       "      <td>6.4</td>\n",
       "      <td>90</td>\n",
       "      <td>23616.0</td>\n",
       "    </tr>\n",
       "    <tr>\n",
       "      <th>6</th>\n",
       "      <td>51</td>\n",
       "      <td>2.3</td>\n",
       "      <td>111</td>\n",
       "      <td>13020.3</td>\n",
       "    </tr>\n",
       "  </tbody>\n",
       "</table>\n",
       "</div>"
      ],
      "text/plain": [
       "   Field_1  Field_2  Field_3  Product\n",
       "0       15      2.5      100   3750.0\n",
       "1       20      4.5       50   4500.0\n",
       "2       25      5.2       80  10400.0\n",
       "3       45      5.8       48  12528.0\n",
       "4       40      6.3       70  17640.0\n",
       "5       41      6.4       90  23616.0\n",
       "6       51      2.3      111  13020.3"
      ]
     },
     "execution_count": 2,
     "metadata": {},
     "output_type": "execute_result"
    }
   ],
   "source": [
    "# importing pandas library\n",
    "import pandas as pd\n",
    "\n",
    "# creating and initializing a nested list\n",
    "values_list = [[15, 2.5, 100], [20, 4.5, 50], [25, 5.2, 80],\n",
    "\t\t\t[45, 5.8, 48], [40, 6.3, 70], [41, 6.4, 90],\n",
    "\t\t\t[51, 2.3, 111]]\n",
    "\n",
    "# creating a pandas dataframe\n",
    "df = pd.DataFrame(values_list, columns=['Field_1', 'Field_2', 'Field_3'])\n",
    "\n",
    "# Applying lambda function to find\n",
    "# the product of 3 columns using\n",
    "# df.assign()\n",
    "df = df.assign(Product=lambda x: (x['Field_1'] * x['Field_2'] * x['Field_3']))\n",
    "\n",
    "# printing dataframe\n",
    "df\n"
   ]
  },
  {
   "cell_type": "code",
   "execution_count": 3,
   "id": "581628b9-cbd9-4144-a809-fd3bf0f8168a",
   "metadata": {},
   "outputs": [
    {
     "data": {
      "image/png": "[encoded data removed]",
      "text/plain": [
       "<Figure size 640x480 with 2 Axes>"
      ]
     },
     "metadata": {},
     "output_type": "display_data"
    }
   ],
   "source": [
    "import matplotlib.pyplot as plt\n",
    "import numpy as np\n",
    "\n",
    "# Generate some data\n",
    "x = np.linspace(0, 10, 100)\n",
    "y1 = np.sin(x)\n",
    "y2 = np.cos(x)\n",
    "\n",
    "# Create the first plot\n",
    "fig, ax1 = plt.subplots()\n",
    "ax1.plot(x, y1, 'b-')\n",
    "ax1.set_xlabel('X-axis')\n",
    "ax1.set_ylabel('Y1-axis', color='b')\n",
    "\n",
    "# Create the second plot with a shared y-axis\n",
    "ax2 = ax1.twinx()\n",
    "ax2.plot(x, y2, 'r-')\n",
    "ax2.set_ylabel('Y2-axis', color='r')\n",
    "\n",
    "# Add a legend\n",
    "ax1.legend(['Y1-axis'], loc='upper left')\n",
    "ax2.legend(['Y2-axis'], loc='upper right')\n",
    "\n",
    "plt.show()"
   ]
  },
  {
   "cell_type": "code",
   "execution_count": 4,
   "id": "a25d7ec8-7cb6-4f73-868b-eeafa4aad6f4",
   "metadata": {},
   "outputs": [
    {
     "ename": "NameError",
     "evalue": "name 'x1' is not defined",
     "output_type": "error",
     "traceback": [
      "\u001b[1;31m---------------------------------------------------------------------------\u001b[0m",
      "\u001b[1;31mNameError\u001b[0m                                 Traceback (most recent call last)",
      "Cell \u001b[1;32mIn[4], line 7\u001b[0m\n\u001b[0;32m      4\u001b[0m fig, ax1 \u001b[38;5;241m=\u001b[39m plt\u001b[38;5;241m.\u001b[39msubplots()\n\u001b[0;32m      6\u001b[0m \u001b[38;5;66;03m# Plot the first set of data\u001b[39;00m\n\u001b[1;32m----> 7\u001b[0m ax1\u001b[38;5;241m.\u001b[39mplot(\u001b[43mx1\u001b[49m, y1, \u001b[38;5;124m'\u001b[39m\u001b[38;5;124mb-\u001b[39m\u001b[38;5;124m'\u001b[39m, label\u001b[38;5;241m=\u001b[39m\u001b[38;5;124m'\u001b[39m\u001b[38;5;124mData 1\u001b[39m\u001b[38;5;124m'\u001b[39m)\n\u001b[0;32m      8\u001b[0m ax1\u001b[38;5;241m.\u001b[39mset_xlabel(\u001b[38;5;124m'\u001b[39m\u001b[38;5;124mX-axis 1\u001b[39m\u001b[38;5;124m'\u001b[39m)\n\u001b[0;32m      9\u001b[0m ax1\u001b[38;5;241m.\u001b[39mset_ylabel(\u001b[38;5;124m'\u001b[39m\u001b[38;5;124mY-axis\u001b[39m\u001b[38;5;124m'\u001b[39m)\n",
      "\u001b[1;31mNameError\u001b[0m: name 'x1' is not defined"
     ]
    },
    {
     "data": {
      "image/png": "[encoded data removed]",
      "text/plain": [
       "<Figure size 640x480 with 1 Axes>"
      ]
     },
     "metadata": {},
     "output_type": "display_data"
    }
   ],
   "source": [
    "import matplotlib.pyplot as plt\n",
    "\n",
    "# Create a figure and axes\n",
    "fig, ax1 = plt.subplots()\n",
    "\n",
    "# Plot the first set of data\n",
    "ax1.plot(x1, y1, 'b-', label='Data 1')\n",
    "ax1.set_xlabel('X-axis 1')\n",
    "ax1.set_ylabel('Y-axis')\n",
    "\n",
    "# Create a second x-axis that shares the same y-axis\n",
    "ax2 = ax1.twiny()\n",
    "\n",
    "# Plot the second set of data\n",
    "ax2.plot(x2, y2, 'r-', label='Data 2')\n",
    "ax2.set_xlabel('X-axis 2')\n",
    "\n",
    "# Show the legend\n",
    "ax1.legend(loc='upper left')\n",
    "ax2.legend(loc='upper right')\n",
    "\n",
    "# Display the plot\n",
    "plt.show()"
   ]
  },
  {
   "cell_type": "code",
   "execution_count": null,
   "id": "cf48a6b3-e530-47e3-b9d5-aab146fc32e1",
   "metadata": {},
   "outputs": [],
   "source": []
  },
  {
   "cell_type": "code",
   "execution_count": null,
   "id": "87ef3102-6388-400a-9094-f1168e6a8c51",
   "metadata": {},
   "outputs": [],
   "source": [
    "#check whether varibale is iterable or not\n",
    "variable = (1,2,3,4)\n",
    "hasattr(variable, '__iter__')"
   ]
  },
  {
   "cell_type": "code",
   "execution_count": null,
   "id": "2b9cce7f-e7bd-479d-931a-4e11f5a3de0f",
   "metadata": {},
   "outputs": [],
   "source": [
    "#take 10 elements list ,partition it into 4 and add none at the end where partion is empty"
   ]
  }
 ],
 "metadata": {
  "kernelspec": {
   "display_name": "tutorial-env",
   "language": "python",
   "name": "tutorial-env"
  },
  "language_info": {
   "codemirror_mode": {
    "name": "ipython",
    "version": 3
   },
   "file_extension": ".py",
   "mimetype": "text/x-python",
   "name": "python",
   "nbconvert_exporter": "python",
   "pygments_lexer": "ipython3",
   "version": "3.11.0"
  }
 },
 "nbformat": 4,
 "nbformat_minor": 5
}
