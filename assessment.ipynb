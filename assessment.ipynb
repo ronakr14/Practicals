{
 "cells": [
  {
   "cell_type": "code",
   "execution_count": 5,
   "metadata": {},
   "outputs": [
    {
     "data": {
      "text/plain": [
       "'tka'"
      ]
     },
     "execution_count": 5,
     "metadata": {},
     "output_type": "execute_result"
    }
   ],
   "source": [
    "s = \"ankit\"\n",
    "s[::-2]"
   ]
  },
  {
   "cell_type": "code",
   "execution_count": 15,
   "metadata": {},
   "outputs": [
    {
     "data": {
      "text/plain": [
       "'mARYAM'"
      ]
     },
     "execution_count": 15,
     "metadata": {},
     "output_type": "execute_result"
    }
   ],
   "source": [
    "srt1 = \"Maryam\"\n",
    "srt1.swapcase()"
   ]
  },
  {
   "cell_type": "code",
   "execution_count": 11,
   "metadata": {},
   "outputs": [
    {
     "name": "stdout",
     "output_type": "stream",
     "text": [
      "2024-05-24 11:35:28.601360\n"
     ]
    }
   ],
   "source": [
    "import datetime\n",
    "\n",
    "a = datetime.datetime.now()\n",
    "print(a)"
   ]
  },
  {
   "cell_type": "markdown",
   "metadata": {},
   "source": [
    "#### Q4. What is Python Global Interpreter Lock ?\n",
    "\n",
    "Ans: \n",
    "The Python Global Interpreter Lock or GIL, in simple words, is a  lock that allows only one thread to hold the control of the Python interpreter.\n",
    "\n",
    "This means that only one thread can be in a state of execution at any point in time."
   ]
  },
  {
   "cell_type": "markdown",
   "metadata": {},
   "source": [
    "join or merge difference in pandas"
   ]
  },
  {
   "cell_type": "markdown",
   "metadata": {},
   "source": [
    "for col in df.columns:\n",
    "df[]['total_marks']  = df.iloc[].sum()"
   ]
  },
  {
   "cell_type": "markdown",
   "metadata": {},
   "source": [
    "#### Q: how to empty dictionary ?\n",
    "\n",
    "Ans : we can empty dict using my_dict.clear() . it will delete all elements of dict\n"
   ]
  },
  {
   "cell_type": "markdown",
   "metadata": {},
   "source": [
    "#### Q: What is socket in python\n",
    "\n",
    "In Python, the socket module provides a low-level interface for network communication. It allows you to create client and server sockets, connect them together, and send/receive data over the network using various protocols"
   ]
  },
  {
   "cell_type": "markdown",
   "metadata": {},
   "source": [
    "#### Q pass function to function as argument"
   ]
  },
  {
   "cell_type": "code",
   "execution_count": 17,
   "metadata": {},
   "outputs": [
    {
     "name": "stdout",
     "output_type": "stream",
     "text": [
      " sum: 8\n"
     ]
    }
   ],
   "source": [
    "def add(a,b):\n",
    "    return f\" sum: {a+b}\"\n",
    "\n",
    "def operation(func, a,b):\n",
    "    return func(a,b)\n",
    "\n",
    "# Pass the add function as an argument to operation\n",
    "message = operation(add, 3,5)\n",
    "print(message)  # Output: Hello, Alice!\n"
   ]
  },
  {
   "cell_type": "markdown",
   "metadata": {},
   "source": [
    "#### Q \n",
    "\n",
    "d = dict()\n",
    "\n",
    "for x in enumerate(range(2)):\n",
    "\n",
    "    d[x[0]] = x[1]\n",
    "    d[x[1]+7] = x[0]\n",
    "\n",
    "Ans : {0: 0, 7: 0, 1: 1, 8: 1}"
   ]
  },
  {
   "cell_type": "markdown",
   "metadata": {},
   "source": [
    "#### Q function Annotation ? \n",
    "\n",
    "Ans\n",
    "Function annotations in Python provide a way to attach metadata to the parameters and return value of functions. They are expressed using colon syntax following the parameter or return type\n",
    "\n",
    "def add(a: int, b: int) -> int\n",
    "    \n",
    "    return a+b\n",
    "\n",
    "a ,b with datatype int is annotated\n",
    "return is also specified as int"
   ]
  },
  {
   "cell_type": "markdown",
   "metadata": {},
   "source": [
    "#### Q: Walrus Operator?\n",
    "\n",
    "The \"walrus operator,\" officially known as the Assignment Expression, is a new feature introduced in Python 3.8. It's represented by :=. This operator allows you to assign values to variables as part of an expression. Its primary use case is to simplify code and make it more readable by eliminating the need to repeat an expression"
   ]
  },
  {
   "cell_type": "code",
   "execution_count": null,
   "metadata": {},
   "outputs": [],
   "source": [
    "# With the walrus operator\n",
    "if (x := 5) > 6:\n",
    "    print(\"True\")\n",
    "else:\n",
    "    print(\"False\")"
   ]
  },
  {
   "cell_type": "markdown",
   "metadata": {},
   "source": [
    "here `x` is assigned `value` and used in experation also"
   ]
  },
  {
   "cell_type": "markdown",
   "metadata": {},
   "source": [
    "#### Q: docstring in function"
   ]
  },
  {
   "cell_type": "code",
   "execution_count": 20,
   "metadata": {},
   "outputs": [],
   "source": [
    "def add(a,b):\n",
    "    '''to add two values'''\n",
    "    return a+b\n"
   ]
  },
  {
   "cell_type": "markdown",
   "metadata": {},
   "source": [
    "docstring are defined just after function defination using `'''`  `'''` to describe about function  "
   ]
  },
  {
   "cell_type": "markdown",
   "metadata": {},
   "source": [
    "#### Q. diff betn format strings and raw strings\n",
    "a= 5\n",
    "\n",
    "in raw string `r\" a: {a}\"` is `a:{a}`\n",
    "\n",
    "in format string `f\" a: {a}\"` is `a: 5`"
   ]
  },
  {
   "cell_type": "markdown",
   "metadata": {},
   "source": [
    "#### Q can we do tuple comprehension\n",
    "Tuple comprehension is not possible becauseco mprehension grows the structure, which means adding one item at a time and tuples\n",
    "are fixed."
   ]
  },
  {
   "cell_type": "markdown",
   "metadata": {},
   "source": [
    "#### Q sort and sorted\n",
    "Ans : The primary difference between sort() and sorted() is the return value.\n",
    "sort() returns None because it modifies the original list in-place. sorted(), on the other hand, returns a new sorted list."
   ]
  },
  {
   "cell_type": "markdown",
   "metadata": {},
   "source": [
    "#### Q concat vs append\n",
    " Ans- The concat method can combine data frames along either rows or columns, while the append method only combines data frames\n",
    " along rows. Another important difference is that concat can combine more than two data frames at once, while append only\n",
    " appends one data frame to another."
   ]
  },
  {
   "cell_type": "markdown",
   "metadata": {},
   "source": [
    "#### Q: best way to create a dictionary according to linters\n",
    " Dictionary with trailing comma\n",
    " options = {\n",
    "    'debug': False,\n",
    "    'verbose': True,\n",
    "    'mode': 'fast',\n",
    " }"
   ]
  },
  {
   "cell_type": "markdown",
   "metadata": {},
   "source": [
    "#### Q: Timedelta\n",
    "Ans - Python timedelta() function is present under datetime library which is generally used for\n",
    " calculating differences in dates and also can be used for date manipulations in Python.\n",
    " It is one of the easiest ways to perform date manipulations."
   ]
  },
  {
   "cell_type": "markdown",
   "metadata": {},
   "source": [
    "#### Q  Multi-index\n",
    "Solution -  Multi-index allows you to represent data with multi-levels of indexing, creating a hierarchy in rows and columns."
   ]
  },
  {
   "cell_type": "markdown",
   "metadata": {},
   "source": [
    "#### Q Head() and tail()\n",
    "Solution- head returns the top 5 values by default of a dataframe and tail returns the bottom 5 values of a dataframe"
   ]
  },
  {
   "cell_type": "markdown",
   "metadata": {},
   "source": [
    "#### Q:. Sort by and group by pandas\n",
    "Ans - By using DataFrame. sort_values() , you can sort DataFrame in ascending or descending order, before going to sort the grouped data,\n",
    " we need to group the DataFrame rows by using DataFrame. groupby() method. Note that groupby preserves the order of rows within each group."
   ]
  },
  {
   "cell_type": "markdown",
   "metadata": {},
   "source": [
    "#### Q: Ways to optimize pandas\n",
    "\n",
    "Vectorized Operations: Pandas is designed to perform well with vectorized operations, so try to avoid using iterative operations like loops.\n",
    " \n",
    " Correct Data Types: Choose appropriate data types for your columns to reduce memory usage and improve performance.\n",
    " \n",
    " Categorical Data: If a column has a limited number of unique values, consider converting it to a categorical data type using pd.Categorical().\n",
    " \n",
    " Memory Efficient Methods: Use memory-efficient methods like read_csv() with appropriate parameters (dtype, usecols, chunksize)\n",
    " to reduce memory usage when reading large datasets.\n",
    " \n",
    " Avoid Chained Indexing: Chained indexing (e.g., df['column'][index]) can create copies of data and lead to performance issues. Instead, use .loc[] or .iloc[].\n",
    "\n",
    "Optimize Groupby Operations: Groupby operations can be memory-intensive. Try to minimize the number of groups and use agg() with a dictionary"
   ]
  },
  {
   "cell_type": "markdown",
   "metadata": {},
   "source": [
    "#### Q / and // difference\n",
    "Solution- / division and // floor division"
   ]
  },
  {
   "cell_type": "markdown",
   "metadata": {},
   "source": [
    "#### Q reindexing in pandas\n",
    " Solution - Reindexing is used to change the row labels and column labels of a DataFrame. It means to\n",
    " confirm the data to match a given set of labels along a particular axis."
   ]
  },
  {
   "cell_type": "markdown",
   "metadata": {},
   "source": []
  }
 ],
 "metadata": {
  "kernelspec": {
   "display_name": "Python 3",
   "language": "python",
   "name": "python3"
  },
  "language_info": {
   "codemirror_mode": {
    "name": "ipython",
    "version": 3
   },
   "file_extension": ".py",
   "mimetype": "text/x-python",
   "name": "python",
   "nbconvert_exporter": "python",
   "pygments_lexer": "ipython3",
   "version": "3.11.0"
  }
 },
 "nbformat": 4,
 "nbformat_minor": 2
}
