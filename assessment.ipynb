{
 "cells": [
  {
   "cell_type": "code",
   "execution_count": 3,
   "metadata": {},
   "outputs": [
    {
     "name": "stdout",
     "output_type": "stream",
     "text": [
      "avK\n"
     ]
    }
   ],
   "source": [
    "#Q1)Input='KAVYA' Output='avk'\n",
    "str1=\"Kavya\"\n",
    "str2=str1[-1::-2]\n",
    "print(str2)\n"
   ]
  },
  {
   "cell_type": "code",
   "execution_count": 2,
   "metadata": {},
   "outputs": [
    {
     "name": "stdout",
     "output_type": "stream",
     "text": [
      "2\n",
      "2.5\n"
     ]
    }
   ],
   "source": [
    "#Q2) true and floor division difference\n",
    "#FLOOR DIVISION is used to divide two numbers and return the integer part of the result, discarding any fractional part.\n",
    "print(5//2)\n",
    "#TRUE DIVISION is used to divide two numbers and return a result with a fractional part.\n",
    "print(5/2)"
   ]
  },
  {
   "cell_type": "code",
   "execution_count": 5,
   "metadata": {},
   "outputs": [
    {
     "name": "stdout",
     "output_type": "stream",
     "text": [
      "hARSHAl\n"
     ]
    }
   ],
   "source": [
    "#Q3) convert uppercase to lowercase and vice-versa\n",
    "str1='HarshaL'\n",
    "print(str1.swapcase())\n"
   ]
  },
  {
   "cell_type": "markdown",
   "metadata": {},
   "source": [
    "##### Q4)Can we do Tuple comprehension & if not why\n",
    "##### Ans) No we can't do tuple comprehension because tuple are immutable."
   ]
  },
  {
   "cell_type": "markdown",
   "metadata": {},
   "source": [
    "##### Q5) sort() and sorted() differnce in python. \n",
    "##### Ans)The sort() method is a list method that sorts the elements of a list in-place, meaning it modifies the original list. It returns None and does not create a new list.\n",
    "##### The sorted() function is a built-in function that returns a new sorted list from an iterable. It does not modify the original iterable."
   ]
  },
  {
   "cell_type": "code",
   "execution_count": 13,
   "metadata": {},
   "outputs": [
    {
     "name": "stdout",
     "output_type": "stream",
     "text": [
      "Timestamp: 12:20:37.132401\n"
     ]
    }
   ],
   "source": [
    "# Q6) Current Timestamp Syntax\n",
    "import datetime\n",
    "current_datetime = datetime.datetime.now()\n",
    "timestamp = current_datetime.time()\n",
    "print(\"Timestamp:\", timestamp)"
   ]
  },
  {
   "cell_type": "markdown",
   "metadata": {},
   "source": [
    "##### Q7 can function be call as an arguement to another function \n",
    "##### Yes, in Python, we can pass a function as an argument to another function. This is called a higher-order function, which is a function that takes one or more functions as arguments or returns a function as a result."
   ]
  },
  {
   "cell_type": "code",
   "execution_count": 15,
   "metadata": {},
   "outputs": [
    {
     "name": "stdout",
     "output_type": "stream",
     "text": [
      "Harshal \n",
      " Dharmik\n",
      "str1\n"
     ]
    }
   ],
   "source": [
    "#Q8) formatted string and raw string example?\n",
    "str1=\"Harshal \\n Dharmik\"\n",
    "print(f\"{str1}\")\n",
    "print(r\"{str1}\")"
   ]
  },
  {
   "cell_type": "markdown",
   "metadata": {},
   "source": [
    "##### Q9) Generators and Decorator\n",
    "\n",
    "##### Ans)Generators: Produce a sequence of values on-the-fly, allowing for efficient iteration over large datasets without loading everything into memory.\n",
    "\n",
    "##### Decorators: Modify the behavior of a function, allowing you to add additional functionality to an existing function without changing its source code."
   ]
  },
  {
   "cell_type": "code",
   "execution_count": 16,
   "metadata": {},
   "outputs": [
    {
     "data": {
      "text/plain": [
       "'Hello, Harshal!'"
      ]
     },
     "execution_count": 16,
     "metadata": {},
     "output_type": "execute_result"
    }
   ],
   "source": [
    "#Q10)Function Annotations\n",
    "#Function annotations allow you to add metadata to function arguments and return values,\n",
    "# which can be used for documentation, type checking, or other purposes.\n",
    "\n",
    "def greet(name: str) -> str:\n",
    "    return f\"Hello, {name}!\"\n",
    "greet(\"Harshal\")"
   ]
  },
  {
   "cell_type": "code",
   "execution_count": 17,
   "metadata": {},
   "outputs": [
    {
     "name": "stdout",
     "output_type": "stream",
     "text": [
      "5\n",
      "4\n",
      "3\n",
      "2\n",
      "1\n"
     ]
    }
   ],
   "source": [
    "# Q11) Walrus Operator\n",
    "# The walrus operator (:=) allows you to assign a value to a variable as part of a larger expression, \n",
    "#making it easier to write concise and readable code.\n",
    "numbers = [1, 2, 3, 4, 5]\n",
    " \n",
    "while (n := len(numbers)) > 0:\n",
    "    print(numbers.pop())"
   ]
  },
  {
   "cell_type": "code",
   "execution_count": 19,
   "metadata": {},
   "outputs": [
    {
     "name": "stdout",
     "output_type": "stream",
     "text": [
      "0\n"
     ]
    }
   ],
   "source": [
    "# Q12)Initialize the dictionary with default value?\n",
    "from collections import defaultdict\n",
    "\n",
    "d = defaultdict(int)  # Initialize a dictionary with default value 0\n",
    "d['a'] = 1\n",
    "d['b'] = 2\n",
    "print(d['c']) "
   ]
  },
  {
   "cell_type": "markdown",
   "metadata": {},
   "source": [
    "##### Q13) Pandas head and tail function\n",
    "\n",
    "##### The head() function returns the first n rows of a DataFrame or Series. By default, it returns the first 5 rows\n",
    "\n",
    "##### The tail() function returns the last n rows of a DataFrame or Series. By default, it returns the last 5 rows"
   ]
  },
  {
   "cell_type": "code",
   "execution_count": 18,
   "metadata": {},
   "outputs": [
    {
     "name": "stdout",
     "output_type": "stream",
     "text": [
      "                 col1\n",
      "level_1 level_2      \n",
      "0       0           0\n",
      "        1           1\n",
      "        2           2\n",
      "        3           3\n",
      "        4           4\n",
      "1       0           5\n",
      "        1           6\n",
      "        2           7\n",
      "        3           8\n",
      "        4           9\n",
      "2       0          10\n",
      "        1          11\n",
      "        2          12\n",
      "        3          13\n",
      "        4          14\n",
      "3       0          15\n",
      "        1          16\n",
      "        2          17\n",
      "        3          18\n",
      "        4          19\n",
      "4       0          20\n",
      "        1          21\n",
      "        2          22\n",
      "        3          23\n",
      "        4          24\n"
     ]
    }
   ],
   "source": [
    "#Q14) Pandas multiindexing\n",
    "# Multi-indexing in pandas is a way to have multiple levels of indices on a DataFrame or Series. \n",
    "# This allows for more complex and hierarchical indexing, making it easier to work with data that has multiple levels of organization.\n",
    "import pandas as pd\n",
    "\n",
    "index = pd.MultiIndex.from_tuples([(i, j) for i in range(5) for j in range(5)], names=['level_1', 'level_2'])\n",
    "df = pd.DataFrame({'col1': range(25)}, index=index)\n",
    "print(df)"
   ]
  },
  {
   "cell_type": "code",
   "execution_count": 20,
   "metadata": {},
   "outputs": [
    {
     "name": "stdout",
     "output_type": "stream",
     "text": [
      "Original DataFrame:\n",
      "          A         B         C\n",
      "0 -0.806222  0.609972  1.249643\n",
      "1  0.695728  0.990398  0.626213\n",
      "2 -1.252468  1.073125  1.379463\n",
      "3  0.965687  0.653542 -0.119290\n",
      "4 -0.672976  2.029718 -0.099899\n",
      "\n",
      "Reindexed DataFrame:\n",
      "          A         B         C\n",
      "0 -0.806222  0.609972  1.249643\n",
      "2 -1.252468  1.073125  1.379463\n",
      "5       NaN       NaN       NaN\n",
      "3  0.965687  0.653542 -0.119290\n",
      "1  0.695728  0.990398  0.626213\n"
     ]
    }
   ],
   "source": [
    "# Q15 pandas reindex\n",
    "# The reindex() function in pandas is used to conform a DataFrame to a new index with optional filling logic.\n",
    "import pandas as pd\n",
    "import numpy as np\n",
    "\n",
    "# Create a DataFrame with some data\n",
    "df = pd.DataFrame(np.random.randn(5, 3), columns=['A', 'B', 'C'])\n",
    "\n",
    "# Reindex the DataFrame with new index labels\n",
    "df_reindexed = df.reindex(index=[0, 2, 5, 3, 1])\n",
    "\n",
    "# Print the original DataFrame and the reindexed DataFrame\n",
    "print(\"Original DataFrame:\")\n",
    "print(df)\n",
    "print(\"\\nReindexed DataFrame:\")\n",
    "print(df_reindexed)"
   ]
  },
  {
   "cell_type": "markdown",
   "metadata": {},
   "source": [
    "##### Q16)difference between pandas merge and join \n",
    "##### Ans)merge is a function that combines two dataframes based on a common set of columns (like a SQL join). It can also be used to join dataframes on indexes by setting the left_index and right_index parameters to True.\n",
    "\n",
    "##### join is a function that combines two dataframes based on a common index. It can also be used to join dataframes on a common set of columns by setting the on parameter to the name of the column(s) to join on. "
   ]
  },
  {
   "cell_type": "markdown",
   "metadata": {},
   "source": [
    "##### Q17)how to optimize in pandas?\n",
    "##### Ans) \n",
    "##### 1)Use .loc and .iloc instead of .apply() when possible.\n",
    "##### 2)Use .at and .iat instead of .loc and .iloc when possible.\n",
    "##### 3)Use vectorized operations instead of loops."
   ]
  },
  {
   "cell_type": "code",
   "execution_count": 22,
   "metadata": {},
   "outputs": [
    {
     "name": "stdout",
     "output_type": "stream",
     "text": [
      "2 days 03:15:00\n"
     ]
    }
   ],
   "source": [
    "#Q18) What is Pandas timedelta\n",
    "#Ans Timedelta is a data type that represents a duration of time, such as a difference between two dates or timestamps.\n",
    "td = pd.Timedelta(days=2, hours=3, minutes=15)\n",
    "dt1 = pd.Timestamp('2022-01-01 12:00:00')\n",
    "dt2 = pd.Timestamp('2022-01-03 15:15:00')\n",
    "td = dt2 - dt1\n",
    "print(td)"
   ]
  },
  {
   "cell_type": "markdown",
   "metadata": {},
   "source": [
    "##### Q 19 Pandas Concat and append?\n",
    "\n",
    "##### Ans) Concat is used to concatenate two or more dataframes either row-wise or column-wise.\n",
    "\n",
    "##### Append is used to append rows to an existing dataframe instead of concatenating two or more dataframes."
   ]
  },
  {
   "cell_type": "code",
   "execution_count": 23,
   "metadata": {},
   "outputs": [
    {
     "name": "stdout",
     "output_type": "stream",
     "text": [
      "       sales  rolling_sales_5\n",
      "0  61.417425              NaN\n",
      "1  64.900826              NaN\n",
      "2  66.698494              NaN\n",
      "3  64.927513              NaN\n",
      "4  73.720630        66.332978\n",
      "5  77.687668        69.587026\n",
      "6  78.125728        72.232007\n",
      "7  75.280301        73.948368\n",
      "8  73.181613        75.599188\n",
      "9  85.272259        77.909514\n"
     ]
    }
   ],
   "source": [
    "#Q20) What is rolling mean in pandas?\n",
    "#The rolling mean in pandas is a function that calculates the mean of a fixed-size window of observations\n",
    "# over a specified axis, and it can be used to smooth out noise in a time series data.\n",
    "import pandas as pd\n",
    "\n",
    "df = pd.DataFrame({'sales': [61.417425, 64.900826, 66.698494, 64.927513, 73.720630, 77.687668, 78.125728, 75.280301, 73.181613, 85.272259]})\n",
    "\n",
    "df['rolling_sales_5'] = df['sales'].rolling(5).mean()\n",
    "\n",
    "print(df.head(10))"
   ]
  },
  {
   "cell_type": "code",
   "execution_count": 24,
   "metadata": {},
   "outputs": [
    {
     "name": "stdout",
     "output_type": "stream",
     "text": [
      "A    10\n",
      "B    26\n",
      "C    42\n",
      "dtype: int64\n",
      "10\n"
     ]
    }
   ],
   "source": [
    "#Q22)how to do sum operation in pandas columns\n",
    "import pandas as pd\n",
    "\n",
    "# create a sample dataframe\n",
    "df = pd.DataFrame({'A': [1, 2, 3, 4],\n",
    "                   'B': [5, 6, 7, 8],\n",
    "                   'C': [9, 10, 11, 12]})\n",
    "\n",
    "# calculate the sum of each column\n",
    "column_sums = df.sum()\n",
    "\n",
    "print(column_sums)\n",
    "column_sum = df['A'].sum()\n",
    "print(column_sum)"
   ]
  },
  {
   "cell_type": "markdown",
   "metadata": {},
   "source": [
    "Q23)what is pickling in python\n",
    "\n",
    "Ans) Pickling in Python is a process of serializing an object into a byte stream, allowing it to be written to a file or transmitted across a network, and then reconstructing the original object from the byte stream. The pickle module in Python provides functions to serialize and deserialize objects, enabling data persistence and exchange between Python programs."
   ]
  },
  {
   "cell_type": "code",
   "execution_count": 25,
   "metadata": {},
   "outputs": [
    {
     "name": "stdout",
     "output_type": "stream",
     "text": [
      "A\n",
      "foo    24\n",
      "bar    12\n",
      "Name: C, dtype: int64\n"
     ]
    }
   ],
   "source": [
    "#Q24) Pandas Group By using any column and Sort By Using Multiple Columns?\n",
    "import pandas as pd\n",
    "\n",
    "# create a sample dataframe\n",
    "df = pd.DataFrame({\n",
    "    \"A\": [\"foo\", \"bar\", \"foo\", \"bar\", \"foo\", \"bar\", \"foo\", \"foo\"],\n",
    "    \"B\": [\"one\", \"one\", \"two\", \"three\", \"two\", \"two\", \"one\", \"three\"],\n",
    "    \"C\": [1, 2, 3, 4, 5, 6, 7, 8],\n",
    "    \"D\": [9, 10, 11, 12, 13, 14, 15, 16]\n",
    "})\n",
    "\n",
    "# group by column 'A' and calculate the sum of column 'C'\n",
    "grouped = df.groupby(\"A\")[\"C\"].sum()\n",
    "\n",
    "# sort the result by multiple columns 'A' and 'C' in descending order\n",
    "sorted_result = grouped.sort_values(ascending=False)\n",
    "\n",
    "print(sorted_result)\n",
    "grouped = df.groupby(\"A\").agg({\"C\": \"sum\", \"D\": \"mean\"})\n",
    "sorted_result = grouped.sort_index(ascending=False)"
   ]
  },
  {
   "cell_type": "code",
   "execution_count": 12,
   "metadata": {},
   "outputs": [
    {
     "name": "stdout",
     "output_type": "stream",
     "text": [
      "{0: 0, 7: 0, 1: 1, 8: 1}\n",
      "Timestamp: 12:20:15.832604\n"
     ]
    }
   ],
   "source": [
    "#Q24) Output of the below code\n",
    "d=dict()\n",
    "for x in enumerate(range(2)):\n",
    "    d[x[0]]=x[1]\n",
    "    d[x[1]+7]=x[0]\n",
    "print(d)\n"
   ]
  }
 ],
 "metadata": {
  "kernelspec": {
   "display_name": "Python 3",
   "language": "python",
   "name": "python3"
  },
  "language_info": {
   "codemirror_mode": {
    "name": "ipython",
    "version": 3
   },
   "file_extension": ".py",
   "mimetype": "text/x-python",
   "name": "python",
   "nbconvert_exporter": "python",
   "pygments_lexer": "ipython3",
   "version": "3.11.0"
  }
 },
 "nbformat": 4,
 "nbformat_minor": 2
}
