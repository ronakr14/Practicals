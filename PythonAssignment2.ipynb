{
 "cells": [
  {
   "cell_type": "code",
   "execution_count": 7,
   "metadata": {},
   "outputs": [
    {
     "name": "stdout",
     "output_type": "stream",
     "text": [
      "k1: vak, k2: vak\n"
     ]
    }
   ],
   "source": [
    "# (1)\n",
    "k = 'kavya'\n",
    "k1 = k[2::-1]\n",
    "k2 = k[0:3][::-1]\n",
    "print(f\"k1: {k1}, k2: {k2}\")"
   ]
  },
  {
   "cell_type": "markdown",
   "metadata": {},
   "source": [
    "(2) / and // difference\n",
    "/ returns the fractional part, floor division truncates the fractional part."
   ]
  },
  {
   "cell_type": "code",
   "execution_count": 13,
   "metadata": {},
   "outputs": [
    {
     "name": "stdout",
     "output_type": "stream",
     "text": [
      "original_string: Maryam\n",
      "new_string: mARYAM\n"
     ]
    }
   ],
   "source": [
    "m='Maryam'\n",
    "print(f\"original_string: {m}\") \n",
    "n = m[0].lower()+m[1:].upper()\n",
    "print(f\"new_string: {n}\")"
   ]
  },
  {
   "cell_type": "code",
   "execution_count": 14,
   "metadata": {},
   "outputs": [
    {
     "name": "stdout",
     "output_type": "stream",
     "text": [
      "Timestamp = 1716534527.712994\n"
     ]
    }
   ],
   "source": [
    "# (3) timestamp\n",
    "\n",
    "from datetime import datetime\n",
    "now = datetime.now()\n",
    "ts = datetime.timestamp(now)\n",
    "print(\"Timestamp =\", ts)"
   ]
  },
  {
   "cell_type": "markdown",
   "metadata": {},
   "source": [
    "4. global interpreter log-read\n",
    "\n",
    "\n",
    "5. Socket programm- read\n",
    "\n",
    "\n",
    "6. Function annotator\n",
    "Function annotations are some random expressions which are written with the functions, and they are evaluated at compile time. They do not exist at run time, and there is no meaning of these expressions to python. They are used and interpreted by a third party or external python libraries.\n",
    "\n",
    "7. walrus operator\n",
    "\n",
    "8. diff betn decorator and generator\n",
    "\n",
    "9. diff betn format strings and raw strings\n",
    "\n",
    "10. set() vs frozenset()\n",
    "Set is mutable while frozenset is immutable. \n",
    "\n",
    "11. Doctsring in function\n",
    "\n",
    "12. How to combine two sets\n",
    "You can use the union() method\n",
    "\n",
    "13. head and tail in pandas\n",
    "The head() function in pandas displays the top rows of a DataFrame, while the tail() function shows the bottom rows.\n",
    "\n",
    "\n",
    "14. multi-indexing in pandas\n",
    "\n",
    "\n",
    "15. join and merge diff in pandas\n",
    "Both join and merge can be used to combines two dataframes but the join method combines two dataframes on the basis of their indexes whereas the merge method is more versatile and allows us to specify columns beside the index to join on for both dataframes.\n",
    "\n",
    "\n",
    "16. timedelta\n",
    "Python timedelta() function is present under datetime library which is generally used for calculating differences in dates and also can be used for date manipulations in Python. It is one of the easiest ways to perform date manipulations. \n",
    "\n",
    "18. How to empty a dictionary?\n",
    "Python Dictionary clear() Method​​ The clear() method removes all the elements from a dictionary.\n",
    "\n",
    "\n",
    "19. one hot encoding\n",
    "One-hot encoding in machine learning is the conversion of categorical information into a format that may be fed into machine learning algorithms to improve prediction accuracy.\n",
    "\n",
    "\n",
    "20. rolling mean\n",
    "21. how to add value from 3 columns and write in 4th column\n",
    "22. pickling\n",
    "23. best way to initialise dictionary according to lintern"
   ]
  }
 ],
 "metadata": {
  "kernelspec": {
   "display_name": "Python 3",
   "language": "python",
   "name": "python3"
  },
  "language_info": {
   "codemirror_mode": {
    "name": "ipython",
    "version": 3
   },
   "file_extension": ".py",
   "mimetype": "text/x-python",
   "name": "python",
   "nbconvert_exporter": "python",
   "pygments_lexer": "ipython3",
   "version": "3.11.0"
  }
 },
 "nbformat": 4,
 "nbformat_minor": 2
}
