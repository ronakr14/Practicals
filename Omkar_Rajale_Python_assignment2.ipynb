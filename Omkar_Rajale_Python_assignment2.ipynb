{
 "cells": [
  {
   "cell_type": "markdown",
   "metadata": {},
   "source": [
    "Q1"
   ]
  },
  {
   "cell_type": "markdown",
   "metadata": {},
   "source": [
    "1) **pass by value:**\n",
    "- There is only pass by reference in python.\n",
    "- If we change the value of the object inside the function, the changes will reflect outside the function as well."
   ]
  },
  {
   "cell_type": "markdown",
   "metadata": {},
   "source": [
    "2) **pass by reference:**\n",
    "- When we are passing an argument to a function, we pass the reference to the object.\n",
    "- The below example shows, when we make changes to the the list passed to pas_by_ref function then the changes will also reflect to the original list."
   ]
  },
  {
   "cell_type": "code",
   "execution_count": 1,
   "metadata": {},
   "outputs": [
    {
     "name": "stdout",
     "output_type": "stream",
     "text": [
      "[1, 2, 3, 5, 6, 7, 4]\n"
     ]
    }
   ],
   "source": [
    "def pas_by_ref(lst):\n",
    "    lst.append(4)\n",
    "    return lst\n",
    "\n",
    "lst1 = [1,2,3,5,6,7]\n",
    "pas_by_ref(lst1)\n",
    "print(lst1)"
   ]
  },
  {
   "cell_type": "markdown",
   "metadata": {},
   "source": [
    "Q2"
   ]
  },
  {
   "cell_type": "markdown",
   "metadata": {},
   "source": [
    "**Itertools**\n",
    "- This module provides a collection of tools for working with iterators & offers functions to create and manipulate iterators.\n",
    "- Tools provided in itertools are:\n",
    "1) count(start = 0, step = 1): This generates an infinite iterator that returns consecutive integers.\n",
    "2) cycle(iterable): This creates an infinite iterator that repeats the elements of the provided iterable indefinitely.\n",
    "3) repeat(object, times=1): This function creates an iterator that returns the same object for a specified number of times. If times is not specified, it repeats endlessly.\n",
    "4) chain(*iterables): Chains together multiple iterables into one long iterable.\n",
    "5) This function applies a binary function like addition or multiplication cumulatively on the elements of the iterable. "
   ]
  },
  {
   "cell_type": "markdown",
   "metadata": {},
   "source": [
    "Q3"
   ]
  },
  {
   "cell_type": "markdown",
   "metadata": {},
   "source": [
    "Enum in python:\n",
    "- Enum is a set of symbolic names bound to unique values.\n",
    "- we can use call syntax to return members by value.\n",
    "- Also we use index syntax to return members by name.\n",
    "- Example of enum:"
   ]
  },
  {
   "cell_type": "code",
   "execution_count": 7,
   "metadata": {},
   "outputs": [
    {
     "name": "stdout",
     "output_type": "stream",
     "text": [
      "1\n",
      "Color.GREEN\n",
      "\n",
      "Iterating on enum:\n",
      "Color.RED\n",
      "Color.GREEN\n",
      "Color.BLUE\n"
     ]
    }
   ],
   "source": [
    "from enum import Enum\n",
    "\n",
    "class Color(Enum):\n",
    "    RED = 1\n",
    "    GREEN = 2\n",
    "    BLUE = 3\n",
    "\n",
    "print(Color.RED.value)\n",
    "print(Color.GREEN)\n",
    "\n",
    "print(\"\\nIterating on enum:\")\n",
    "for color in Color:\n",
    "    print(color)"
   ]
  },
  {
   "cell_type": "markdown",
   "metadata": {},
   "source": [
    "Q4"
   ]
  },
  {
   "cell_type": "markdown",
   "metadata": {},
   "source": [
    "**Checking whether the passed variable to a function is an iterable or not.**"
   ]
  },
  {
   "cell_type": "markdown",
   "metadata": {},
   "source": [
    "1st Approach:"
   ]
  },
  {
   "cell_type": "code",
   "execution_count": 8,
   "metadata": {},
   "outputs": [
    {
     "name": "stdout",
     "output_type": "stream",
     "text": [
      "True\n",
      "False\n",
      "True\n"
     ]
    }
   ],
   "source": [
    "def check_itr(var1):\n",
    "    try:\n",
    "        iter(var1)\n",
    "        return True\n",
    "    \n",
    "    except Exception:\n",
    "        return False\n",
    "    \n",
    "print(check_itr(['Omkar', 14,'Age']))\n",
    "print(check_itr(12))\n",
    "print(check_itr('Hello'))"
   ]
  },
  {
   "cell_type": "markdown",
   "metadata": {},
   "source": [
    "2nd Approach"
   ]
  },
  {
   "cell_type": "code",
   "execution_count": 9,
   "metadata": {},
   "outputs": [
    {
     "name": "stdout",
     "output_type": "stream",
     "text": [
      "True\n",
      "True\n",
      "False\n"
     ]
    }
   ],
   "source": [
    "def is_iterable(var2):\n",
    "    return hasattr(var2, '__iter__')\n",
    "\n",
    "print(is_iterable([1, 2, 3]))  \n",
    "print(is_iterable(\"hello\"))    \n",
    "print(is_iterable(123))  "
   ]
  },
  {
   "cell_type": "markdown",
   "metadata": {},
   "source": [
    "Q5"
   ]
  },
  {
   "cell_type": "markdown",
   "metadata": {},
   "source": [
    "1) any():\n",
    "- any() function returns 'True' if at least one element in an iterable is 'True', and 'False' otherwise.\n",
    "- If the iterable is empty then it returns 'False'.\n",
    "- For dictionaries, any() checks whether any key evaluates to True.\n",
    "- Example fot any() function:"
   ]
  },
  {
   "cell_type": "code",
   "execution_count": 13,
   "metadata": {},
   "outputs": [
    {
     "name": "stdout",
     "output_type": "stream",
     "text": [
      "True\n",
      "False\n"
     ]
    }
   ],
   "source": [
    "lst = [False, False, True, False]\n",
    "result1 = any(lst)\n",
    "print(result1)\n",
    "\n",
    "tup = (0, '', None, False)\n",
    "result2 = any(tup)\n",
    "print(result2)"
   ]
  },
  {
   "cell_type": "markdown",
   "metadata": {},
   "source": [
    "2) all():\n",
    "- all() function returns 'True' if all the elements in an iterable is 'True', and 'False' otherwise.\n",
    "- If the iterable is empty then it returns 'True'.\n",
    "- For dictionaries, all() checks whether all keys evaluate to True.\n",
    "- Example fot all() function:"
   ]
  },
  {
   "cell_type": "code",
   "execution_count": 14,
   "metadata": {},
   "outputs": [
    {
     "name": "stdout",
     "output_type": "stream",
     "text": [
      "True\n",
      "False\n"
     ]
    }
   ],
   "source": [
    "my_list = [True, True, True, True]\n",
    "result = all(my_list)\n",
    "print(result)\n",
    "\n",
    "my_tuple = (0, '', None, False, True)\n",
    "result = all(my_tuple)\n",
    "print(result)"
   ]
  },
  {
   "cell_type": "markdown",
   "metadata": {},
   "source": [
    "Q6"
   ]
  },
  {
   "cell_type": "markdown",
   "metadata": {},
   "source": [
    "**Various ways to implement string formatting in python.** "
   ]
  },
  {
   "cell_type": "code",
   "execution_count": 21,
   "metadata": {},
   "outputs": [
    {
     "name": "stdout",
     "output_type": "stream",
     "text": [
      "O/p using '%' operator= Name: Omkar, Age: 24\n",
      "O/p using str.format method= Name: Akshay, Age: 28\n",
      "O/p using f-strings= Name: Kavya, Age: 21\n",
      "O/p using str.join method= mercedes, redbull, mclaren\n"
     ]
    }
   ],
   "source": [
    "# Using % operator:\n",
    "\n",
    "name = \"Omkar\"\n",
    "age = 24\n",
    "output = \"Name: %s, Age: %d\" % (name, age)\n",
    "print(\"O/p using '%' operator=\",output)\n",
    "\n",
    "# Using str.format() method:\n",
    "\n",
    "name = \"Akshay\"\n",
    "age = 28\n",
    "output = \"Name: {}, Age: {}\".format(name, age)\n",
    "print(\"O/p using str.format method=\",output)\n",
    "\n",
    "# Using f-strings:\n",
    "\n",
    "name = \"Kavya\"\n",
    "age = 21\n",
    "output = f\"Name: {name}, Age: {age}\"\n",
    "print(\"O/p using f-strings=\", output)\n",
    "\n",
    "# Using str.join() method:\n",
    "\n",
    "lst = [\"mercedes\", \"redbull\", \"mclaren\"]\n",
    "output = \", \".join(lst)\n",
    "print(\"O/p using str.join method=\", output)\n"
   ]
  },
  {
   "cell_type": "markdown",
   "metadata": {},
   "source": [
    "Q7"
   ]
  },
  {
   "cell_type": "markdown",
   "metadata": {},
   "source": [
    "Python code execution flow explanation:\n",
    "- **Top down/sequential:** Python code starts executing at the first line of your program. Statements are executed one by one, in the order they appear from top to bottom.\n",
    "- **Functions:** When we call a function, Python jumps to the first line within the function's definition. The function's statements are executed sequentially.\n",
    "Once the function reaches the end (or encounters a return statement), it returns control back to the line where the function was called.\n",
    "Execution then resumes at the next line after the function call.\n",
    "- **Nested Functions:** When a nested function is called, control jumps to that function. It returns control back to the calling function when it finishes.\n"
   ]
  },
  {
   "cell_type": "markdown",
   "metadata": {},
   "source": [
    "Q8"
   ]
  },
  {
   "cell_type": "code",
   "execution_count": 29,
   "metadata": {},
   "outputs": [
    {
     "name": "stdout",
     "output_type": "stream",
     "text": [
      "Partition 1: [1, 2, 3]\n",
      "Partition 2: [4, 5, 6]\n",
      "Partition 3: [7, 8, 9]\n",
      "Partition 4: [10, None, None]\n"
     ]
    }
   ],
   "source": [
    "\n",
    "ll = [1, 2, 3, 4, 5, 6, 7, 8, 9, 10]\n",
    "part_len = len(ll) // 3\n",
    "partitions = [ll[i*part_len:(i+1)*part_len] if i < 3 else ll[i*part_len:]+[None]*((i+1)*part_len - len(ll)) for i in range(4)]\n",
    "\n",
    "for i, part in enumerate(partitions):\n",
    "    print(f\"Partition {i+1}: {part}\")"
   ]
  },
  {
   "cell_type": "markdown",
   "metadata": {},
   "source": [
    "Q9"
   ]
  },
  {
   "cell_type": "markdown",
   "metadata": {},
   "source": [
    "Union operator of typing library:\n",
    "- The union operator in the typing library of Python allows us to define functions or variables that can accept or hold multiple data types.\n",
    "- In the following example we used the Union operator to specify that the value can be either an integer or a string."
   ]
  },
  {
   "cell_type": "code",
   "execution_count": 34,
   "metadata": {},
   "outputs": [
    {
     "name": "stdout",
     "output_type": "stream",
     "text": [
      "Received integer: 14\n",
      "Received string: Hello Omkar!\n",
      "Error: Invalid input type\n"
     ]
    }
   ],
   "source": [
    "from typing import Union\n",
    "\n",
    "def value_type(val: Union[int, str]) -> str:\n",
    "  if isinstance(val, int):\n",
    "    return f\"Received integer: {val}\"\n",
    "  elif isinstance(val, str):\n",
    "    return f\"Received string: {val}\"\n",
    "  else:\n",
    "    raise TypeError(\"Invalid input type\")\n",
    "\n",
    "\n",
    "number = 14\n",
    "text = \"Hello Omkar!\"\n",
    "\n",
    "print(value_type(number))  \n",
    "print(value_type(text))    \n",
    "\n",
    "try:\n",
    "  value_type(3.14)\n",
    "except TypeError as e:\n",
    "  print(f\"Error: {e}\")\n"
   ]
  }
 ],
 "metadata": {
  "kernelspec": {
   "display_name": "base",
   "language": "python",
   "name": "python3"
  },
  "language_info": {
   "codemirror_mode": {
    "name": "ipython",
    "version": 3
   },
   "file_extension": ".py",
   "mimetype": "text/x-python",
   "name": "python",
   "nbconvert_exporter": "python",
   "pygments_lexer": "ipython3",
   "version": "3.12.2"
  }
 },
 "nbformat": 4,
 "nbformat_minor": 2
}
